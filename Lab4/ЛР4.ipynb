{
 "cells": [
  {
   "cell_type": "markdown",
   "id": "8d62a5cf",
   "metadata": {},
   "source": [
    "# Лабораторная работа №4"
   ]
  },
  {
   "cell_type": "code",
   "execution_count": 1,
   "id": "bb5ae5fe",
   "metadata": {},
   "outputs": [],
   "source": [
    "import pandas as pd\n",
    "import numpy as np\n",
    "import seaborn as sns\n",
    "from sklearn.preprocessing import LabelEncoder\n",
    "from sklearn.model_selection import train_test_split\n",
    "from sklearn.linear_model import SGDClassifier\n",
    "from sklearn.metrics import f1_score, precision_score\n",
    "from sklearn.svm import SVC\n",
    "from sklearn.tree import DecisionTreeClassifier, plot_tree\n",
    "from sklearn.model_selection import GridSearchCV\n",
    "import matplotlib.pyplot as plt\n",
    "from sklearn.impute import SimpleImputer, MissingIndicator\n",
    "%matplotlib inline \n",
    "sns.set(style=\"ticks\")\n",
    "\n",
    "target_col=\"points\""
   ]
  },
  {
   "cell_type": "code",
   "execution_count": 2,
   "id": "788aebb4",
   "metadata": {},
   "outputs": [
    {
     "name": "stdout",
     "output_type": "stream",
     "text": [
      "Unnamed: 0 - 0%\n",
      "country - 0%\n",
      "description - 0%\n",
      "designation - 30%\n",
      "points - 0%\n",
      "price - 9%\n",
      "province - 0%\n",
      "region_1 - 17%\n",
      "region_2 - 60%\n",
      "variety - 0%\n",
      "winery - 0%\n"
     ]
    }
   ],
   "source": [
    "data = pd.read_csv(\"winemag-data_first150k.csv\")\n",
    "for col in data.columns:\n",
    "    pct_missing = np.mean(data[col].isnull())\n",
    "    print('{} - {}%'.format(col, round(pct_missing*100)))"
   ]
  },
  {
   "cell_type": "markdown",
   "id": "4eb47772",
   "metadata": {},
   "source": [
    "## Обработка пропусков"
   ]
  },
  {
   "cell_type": "code",
   "execution_count": 3,
   "id": "00205c25",
   "metadata": {},
   "outputs": [],
   "source": [
    "data.drop(columns=['region_2'], inplace=True) "
   ]
  },
  {
   "cell_type": "code",
   "execution_count": 4,
   "id": "837dd15a",
   "metadata": {},
   "outputs": [],
   "source": [
    "data.price.fillna(data.price.median(), inplace = True)"
   ]
  },
  {
   "cell_type": "code",
   "execution_count": 5,
   "id": "1e7f32ac",
   "metadata": {},
   "outputs": [],
   "source": [
    "data.drop(columns=['Unnamed: 0'], inplace=True) "
   ]
  },
  {
   "cell_type": "code",
   "execution_count": 6,
   "id": "d0430fb6",
   "metadata": {},
   "outputs": [
    {
     "name": "stdout",
     "output_type": "stream",
     "text": [
      "Колонка country. Тип данных object. Количество пустых значений 5, 0.0%.\n",
      "Колонка designation. Тип данных object. Количество пустых значений 45735, 30.3%.\n",
      "Колонка province. Тип данных object. Количество пустых значений 5, 0.0%.\n",
      "Колонка region_1. Тип данных object. Количество пустых значений 25060, 16.6%.\n"
     ]
    }
   ],
   "source": [
    "cat_cols = []\n",
    "total_count = data.shape[0]\n",
    "for col in data.columns:\n",
    "    # Количество пустых значений \n",
    "    temp_null_count = data[data[col].isnull()].shape[0]\n",
    "    dt = str(data[col].dtype)\n",
    "    if temp_null_count>0 and (dt=='object'):\n",
    "        cat_cols.append(col)\n",
    "        temp_perc = round((temp_null_count / total_count) * 100.0, 2)\n",
    "        print('Колонка {}. Тип данных {}. Количество пустых значений {}, {}%.'.format(col, dt, temp_null_count, temp_perc))"
   ]
  },
  {
   "cell_type": "code",
   "execution_count": 7,
   "id": "087c3cc0",
   "metadata": {},
   "outputs": [
    {
     "data": {
      "text/html": [
       "<div>\n",
       "<style scoped>\n",
       "    .dataframe tbody tr th:only-of-type {\n",
       "        vertical-align: middle;\n",
       "    }\n",
       "\n",
       "    .dataframe tbody tr th {\n",
       "        vertical-align: top;\n",
       "    }\n",
       "\n",
       "    .dataframe thead th {\n",
       "        text-align: right;\n",
       "    }\n",
       "</style>\n",
       "<table border=\"1\" class=\"dataframe\">\n",
       "  <thead>\n",
       "    <tr style=\"text-align: right;\">\n",
       "      <th></th>\n",
       "      <th>designation</th>\n",
       "    </tr>\n",
       "  </thead>\n",
       "  <tbody>\n",
       "    <tr>\n",
       "      <th>0</th>\n",
       "      <td>Martha's Vineyard</td>\n",
       "    </tr>\n",
       "    <tr>\n",
       "      <th>1</th>\n",
       "      <td>Carodorum Selección Especial Reserva</td>\n",
       "    </tr>\n",
       "    <tr>\n",
       "      <th>2</th>\n",
       "      <td>Special Selected Late Harvest</td>\n",
       "    </tr>\n",
       "    <tr>\n",
       "      <th>3</th>\n",
       "      <td>Reserve</td>\n",
       "    </tr>\n",
       "    <tr>\n",
       "      <th>4</th>\n",
       "      <td>La Brûlade</td>\n",
       "    </tr>\n",
       "  </tbody>\n",
       "</table>\n",
       "</div>"
      ],
      "text/plain": [
       "                            designation\n",
       "0                     Martha's Vineyard\n",
       "1  Carodorum Selección Especial Reserva\n",
       "2         Special Selected Late Harvest\n",
       "3                               Reserve\n",
       "4                            La Brûlade"
      ]
     },
     "execution_count": 7,
     "metadata": {},
     "output_type": "execute_result"
    }
   ],
   "source": [
    "cat_temp_data = data[['designation']]\n",
    "cat_temp_data.head()"
   ]
  },
  {
   "cell_type": "code",
   "execution_count": 8,
   "id": "d4b62e39",
   "metadata": {},
   "outputs": [
    {
     "data": {
      "text/plain": [
       "array(['\"M\"', '#50 Mon Chou', '#SocialSecret', ..., 'ía Crianza',\n",
       "       'Župska', \"‘Rough Justice' Red\"], dtype=object)"
      ]
     },
     "execution_count": 8,
     "metadata": {},
     "output_type": "execute_result"
    }
   ],
   "source": [
    "# Импьютация наиболее частыми значениями\n",
    "imp = SimpleImputer(missing_values=np.nan, strategy='most_frequent')\n",
    "data_imp = imp.fit_transform(cat_temp_data)\n",
    "data_imp\n",
    "np.unique(data_imp)"
   ]
  },
  {
   "cell_type": "code",
   "execution_count": 9,
   "id": "4e315d00",
   "metadata": {},
   "outputs": [
    {
     "data": {
      "text/html": [
       "<div>\n",
       "<style scoped>\n",
       "    .dataframe tbody tr th:only-of-type {\n",
       "        vertical-align: middle;\n",
       "    }\n",
       "\n",
       "    .dataframe tbody tr th {\n",
       "        vertical-align: top;\n",
       "    }\n",
       "\n",
       "    .dataframe thead th {\n",
       "        text-align: right;\n",
       "    }\n",
       "</style>\n",
       "<table border=\"1\" class=\"dataframe\">\n",
       "  <thead>\n",
       "    <tr style=\"text-align: right;\">\n",
       "      <th></th>\n",
       "      <th>region_1</th>\n",
       "    </tr>\n",
       "  </thead>\n",
       "  <tbody>\n",
       "    <tr>\n",
       "      <th>0</th>\n",
       "      <td>Napa Valley</td>\n",
       "    </tr>\n",
       "    <tr>\n",
       "      <th>1</th>\n",
       "      <td>Toro</td>\n",
       "    </tr>\n",
       "    <tr>\n",
       "      <th>2</th>\n",
       "      <td>Knights Valley</td>\n",
       "    </tr>\n",
       "    <tr>\n",
       "      <th>3</th>\n",
       "      <td>Willamette Valley</td>\n",
       "    </tr>\n",
       "    <tr>\n",
       "      <th>4</th>\n",
       "      <td>Bandol</td>\n",
       "    </tr>\n",
       "  </tbody>\n",
       "</table>\n",
       "</div>"
      ],
      "text/plain": [
       "            region_1\n",
       "0        Napa Valley\n",
       "1               Toro\n",
       "2     Knights Valley\n",
       "3  Willamette Valley\n",
       "4             Bandol"
      ]
     },
     "execution_count": 9,
     "metadata": {},
     "output_type": "execute_result"
    }
   ],
   "source": [
    "cat_temp_data1 = data[['region_1']]\n",
    "cat_temp_data1.head()"
   ]
  },
  {
   "cell_type": "code",
   "execution_count": 10,
   "id": "1eb10d4c",
   "metadata": {},
   "outputs": [
    {
     "data": {
      "text/plain": [
       "array(['Abruzzo', 'Adelaida District', 'Adelaide', ...,\n",
       "       'Yorkville Highlands', 'Yountville', 'Zonda Valley'], dtype=object)"
      ]
     },
     "execution_count": 10,
     "metadata": {},
     "output_type": "execute_result"
    }
   ],
   "source": [
    "# Импьютация наиболее частыми значениями\n",
    "imp1 = SimpleImputer(missing_values=np.nan, strategy='most_frequent')\n",
    "data_imp1 = imp1.fit_transform(cat_temp_data1)\n",
    "data_imp1\n",
    "np.unique(data_imp1)"
   ]
  },
  {
   "cell_type": "code",
   "execution_count": 11,
   "id": "d4143647",
   "metadata": {},
   "outputs": [],
   "source": [
    "data.designation = data_imp\n",
    "data.region_1 = data_imp1"
   ]
  },
  {
   "cell_type": "code",
   "execution_count": 12,
   "id": "dbb9ccd1",
   "metadata": {},
   "outputs": [
    {
     "name": "stdout",
     "output_type": "stream",
     "text": [
      "country - 0%\n",
      "description - 0%\n",
      "designation - 0%\n",
      "points - 0%\n",
      "price - 0%\n",
      "province - 0%\n",
      "region_1 - 0%\n",
      "variety - 0%\n",
      "winery - 0%\n"
     ]
    }
   ],
   "source": [
    "for col in data.columns:\n",
    "    pct_missing = np.mean(data[col].isnull())\n",
    "    print('{} - {}%'.format(col, round(pct_missing*100)))"
   ]
  },
  {
   "cell_type": "code",
   "execution_count": 13,
   "id": "4923f6a1",
   "metadata": {},
   "outputs": [
    {
     "data": {
      "text/html": [
       "<div>\n",
       "<style scoped>\n",
       "    .dataframe tbody tr th:only-of-type {\n",
       "        vertical-align: middle;\n",
       "    }\n",
       "\n",
       "    .dataframe tbody tr th {\n",
       "        vertical-align: top;\n",
       "    }\n",
       "\n",
       "    .dataframe thead th {\n",
       "        text-align: right;\n",
       "    }\n",
       "</style>\n",
       "<table border=\"1\" class=\"dataframe\">\n",
       "  <thead>\n",
       "    <tr style=\"text-align: right;\">\n",
       "      <th></th>\n",
       "      <th>country</th>\n",
       "      <th>description</th>\n",
       "      <th>designation</th>\n",
       "      <th>points</th>\n",
       "      <th>price</th>\n",
       "      <th>province</th>\n",
       "      <th>region_1</th>\n",
       "      <th>variety</th>\n",
       "      <th>winery</th>\n",
       "    </tr>\n",
       "  </thead>\n",
       "  <tbody>\n",
       "    <tr>\n",
       "      <th>0</th>\n",
       "      <td>US</td>\n",
       "      <td>This tremendous 100% varietal wine hails from ...</td>\n",
       "      <td>Martha's Vineyard</td>\n",
       "      <td>96</td>\n",
       "      <td>235.0</td>\n",
       "      <td>California</td>\n",
       "      <td>Napa Valley</td>\n",
       "      <td>Cabernet Sauvignon</td>\n",
       "      <td>Heitz</td>\n",
       "    </tr>\n",
       "    <tr>\n",
       "      <th>1</th>\n",
       "      <td>Spain</td>\n",
       "      <td>Ripe aromas of fig, blackberry and cassis are ...</td>\n",
       "      <td>Carodorum Selección Especial Reserva</td>\n",
       "      <td>96</td>\n",
       "      <td>110.0</td>\n",
       "      <td>Northern Spain</td>\n",
       "      <td>Toro</td>\n",
       "      <td>Tinta de Toro</td>\n",
       "      <td>Bodega Carmen Rodríguez</td>\n",
       "    </tr>\n",
       "    <tr>\n",
       "      <th>2</th>\n",
       "      <td>US</td>\n",
       "      <td>Mac Watson honors the memory of a wine once ma...</td>\n",
       "      <td>Special Selected Late Harvest</td>\n",
       "      <td>96</td>\n",
       "      <td>90.0</td>\n",
       "      <td>California</td>\n",
       "      <td>Knights Valley</td>\n",
       "      <td>Sauvignon Blanc</td>\n",
       "      <td>Macauley</td>\n",
       "    </tr>\n",
       "    <tr>\n",
       "      <th>3</th>\n",
       "      <td>US</td>\n",
       "      <td>This spent 20 months in 30% new French oak, an...</td>\n",
       "      <td>Reserve</td>\n",
       "      <td>96</td>\n",
       "      <td>65.0</td>\n",
       "      <td>Oregon</td>\n",
       "      <td>Willamette Valley</td>\n",
       "      <td>Pinot Noir</td>\n",
       "      <td>Ponzi</td>\n",
       "    </tr>\n",
       "    <tr>\n",
       "      <th>4</th>\n",
       "      <td>France</td>\n",
       "      <td>This is the top wine from La Bégude, named aft...</td>\n",
       "      <td>La Brûlade</td>\n",
       "      <td>95</td>\n",
       "      <td>66.0</td>\n",
       "      <td>Provence</td>\n",
       "      <td>Bandol</td>\n",
       "      <td>Provence red blend</td>\n",
       "      <td>Domaine de la Bégude</td>\n",
       "    </tr>\n",
       "  </tbody>\n",
       "</table>\n",
       "</div>"
      ],
      "text/plain": [
       "  country                                        description  \\\n",
       "0      US  This tremendous 100% varietal wine hails from ...   \n",
       "1   Spain  Ripe aromas of fig, blackberry and cassis are ...   \n",
       "2      US  Mac Watson honors the memory of a wine once ma...   \n",
       "3      US  This spent 20 months in 30% new French oak, an...   \n",
       "4  France  This is the top wine from La Bégude, named aft...   \n",
       "\n",
       "                            designation  points  price        province  \\\n",
       "0                     Martha's Vineyard      96  235.0      California   \n",
       "1  Carodorum Selección Especial Reserva      96  110.0  Northern Spain   \n",
       "2         Special Selected Late Harvest      96   90.0      California   \n",
       "3                               Reserve      96   65.0          Oregon   \n",
       "4                            La Brûlade      95   66.0        Provence   \n",
       "\n",
       "            region_1             variety                   winery  \n",
       "0        Napa Valley  Cabernet Sauvignon                    Heitz  \n",
       "1               Toro       Tinta de Toro  Bodega Carmen Rodríguez  \n",
       "2     Knights Valley     Sauvignon Blanc                 Macauley  \n",
       "3  Willamette Valley          Pinot Noir                    Ponzi  \n",
       "4             Bandol  Provence red blend     Domaine de la Bégude  "
      ]
     },
     "execution_count": 13,
     "metadata": {},
     "output_type": "execute_result"
    }
   ],
   "source": [
    "data = data.dropna(axis=0, how='any')\n",
    "data.head()"
   ]
  },
  {
   "cell_type": "code",
   "execution_count": 14,
   "id": "3816af2c",
   "metadata": {},
   "outputs": [
    {
     "name": "stdout",
     "output_type": "stream",
     "text": [
      "country - object - 0\n",
      "description - object - 0\n",
      "designation - object - 0\n",
      "points - int64 - 0\n",
      "price - float64 - 0\n",
      "province - object - 0\n",
      "region_1 - object - 0\n",
      "variety - object - 0\n",
      "winery - object - 0\n"
     ]
    }
   ],
   "source": [
    "for col in data.columns:\n",
    "    null_count = data[data[col].isnull()].shape[0]\n",
    "    if null_count == 0:\n",
    "        column_type = data[col].dtype\n",
    "        print('{} - {} - {}'.format(col, column_type, null_count))"
   ]
  },
  {
   "cell_type": "markdown",
   "id": "dff21620",
   "metadata": {},
   "source": [
    "## Кодирование категориальных признаков"
   ]
  },
  {
   "cell_type": "code",
   "execution_count": 15,
   "id": "2e15abf9",
   "metadata": {},
   "outputs": [
    {
     "name": "stdout",
     "output_type": "stream",
     "text": [
      "country\n",
      "description\n",
      "designation\n",
      "province\n",
      "region_1\n",
      "variety\n",
      "winery\n"
     ]
    }
   ],
   "source": [
    "le = LabelEncoder()\n",
    "for col in data.columns:\n",
    "    column_type = data[col].dtype\n",
    "    if column_type == 'object':\n",
    "        data[col] = le.fit_transform(data[col]);\n",
    "        print(col)"
   ]
  },
  {
   "cell_type": "code",
   "execution_count": 16,
   "id": "e0deb91a",
   "metadata": {},
   "outputs": [
    {
     "data": {
      "text/html": [
       "<div>\n",
       "<style scoped>\n",
       "    .dataframe tbody tr th:only-of-type {\n",
       "        vertical-align: middle;\n",
       "    }\n",
       "\n",
       "    .dataframe tbody tr th {\n",
       "        vertical-align: top;\n",
       "    }\n",
       "\n",
       "    .dataframe thead th {\n",
       "        text-align: right;\n",
       "    }\n",
       "</style>\n",
       "<table border=\"1\" class=\"dataframe\">\n",
       "  <thead>\n",
       "    <tr style=\"text-align: right;\">\n",
       "      <th></th>\n",
       "      <th>country</th>\n",
       "      <th>description</th>\n",
       "      <th>designation</th>\n",
       "      <th>points</th>\n",
       "      <th>price</th>\n",
       "      <th>province</th>\n",
       "      <th>region_1</th>\n",
       "      <th>variety</th>\n",
       "      <th>winery</th>\n",
       "    </tr>\n",
       "  </thead>\n",
       "  <tbody>\n",
       "    <tr>\n",
       "      <th>0</th>\n",
       "      <td>44</td>\n",
       "      <td>88311</td>\n",
       "      <td>17271</td>\n",
       "      <td>96</td>\n",
       "      <td>235.0</td>\n",
       "      <td>51</td>\n",
       "      <td>738</td>\n",
       "      <td>70</td>\n",
       "      <td>7286</td>\n",
       "    </tr>\n",
       "    <tr>\n",
       "      <th>1</th>\n",
       "      <td>40</td>\n",
       "      <td>56022</td>\n",
       "      <td>4398</td>\n",
       "      <td>96</td>\n",
       "      <td>110.0</td>\n",
       "      <td>274</td>\n",
       "      <td>1070</td>\n",
       "      <td>553</td>\n",
       "      <td>1231</td>\n",
       "    </tr>\n",
       "    <tr>\n",
       "      <th>2</th>\n",
       "      <td>44</td>\n",
       "      <td>44593</td>\n",
       "      <td>25380</td>\n",
       "      <td>96</td>\n",
       "      <td>90.0</td>\n",
       "      <td>51</td>\n",
       "      <td>528</td>\n",
       "      <td>468</td>\n",
       "      <td>9032</td>\n",
       "    </tr>\n",
       "    <tr>\n",
       "      <th>3</th>\n",
       "      <td>44</td>\n",
       "      <td>87818</td>\n",
       "      <td>22306</td>\n",
       "      <td>96</td>\n",
       "      <td>65.0</td>\n",
       "      <td>282</td>\n",
       "      <td>1222</td>\n",
       "      <td>402</td>\n",
       "      <td>11001</td>\n",
       "    </tr>\n",
       "    <tr>\n",
       "      <th>4</th>\n",
       "      <td>15</td>\n",
       "      <td>84626</td>\n",
       "      <td>14260</td>\n",
       "      <td>95</td>\n",
       "      <td>66.0</td>\n",
       "      <td>313</td>\n",
       "      <td>66</td>\n",
       "      <td>422</td>\n",
       "      <td>5409</td>\n",
       "    </tr>\n",
       "  </tbody>\n",
       "</table>\n",
       "</div>"
      ],
      "text/plain": [
       "   country  description  designation  points  price  province  region_1  \\\n",
       "0       44        88311        17271      96  235.0        51       738   \n",
       "1       40        56022         4398      96  110.0       274      1070   \n",
       "2       44        44593        25380      96   90.0        51       528   \n",
       "3       44        87818        22306      96   65.0       282      1222   \n",
       "4       15        84626        14260      95   66.0       313        66   \n",
       "\n",
       "   variety  winery  \n",
       "0       70    7286  \n",
       "1      553    1231  \n",
       "2      468    9032  \n",
       "3      402   11001  \n",
       "4      422    5409  "
      ]
     },
     "execution_count": 16,
     "metadata": {},
     "output_type": "execute_result"
    }
   ],
   "source": [
    "data.head()"
   ]
  },
  {
   "cell_type": "markdown",
   "id": "e5d9934c",
   "metadata": {},
   "source": [
    "## Разделение выборки на обучающую и тестовую"
   ]
  },
  {
   "cell_type": "code",
   "execution_count": 17,
   "id": "aa7fc648",
   "metadata": {},
   "outputs": [],
   "source": [
    "X = data.drop(target_col, axis=1)\n",
    "Y = data[target_col]"
   ]
  },
  {
   "cell_type": "code",
   "execution_count": 18,
   "id": "c595a5f9",
   "metadata": {},
   "outputs": [
    {
     "data": {
      "text/html": [
       "<div>\n",
       "<style scoped>\n",
       "    .dataframe tbody tr th:only-of-type {\n",
       "        vertical-align: middle;\n",
       "    }\n",
       "\n",
       "    .dataframe tbody tr th {\n",
       "        vertical-align: top;\n",
       "    }\n",
       "\n",
       "    .dataframe thead th {\n",
       "        text-align: right;\n",
       "    }\n",
       "</style>\n",
       "<table border=\"1\" class=\"dataframe\">\n",
       "  <thead>\n",
       "    <tr style=\"text-align: right;\">\n",
       "      <th></th>\n",
       "      <th>country</th>\n",
       "      <th>description</th>\n",
       "      <th>designation</th>\n",
       "      <th>price</th>\n",
       "      <th>province</th>\n",
       "      <th>region_1</th>\n",
       "      <th>variety</th>\n",
       "      <th>winery</th>\n",
       "    </tr>\n",
       "  </thead>\n",
       "  <tbody>\n",
       "    <tr>\n",
       "      <th>0</th>\n",
       "      <td>44</td>\n",
       "      <td>88311</td>\n",
       "      <td>17271</td>\n",
       "      <td>235.0</td>\n",
       "      <td>51</td>\n",
       "      <td>738</td>\n",
       "      <td>70</td>\n",
       "      <td>7286</td>\n",
       "    </tr>\n",
       "    <tr>\n",
       "      <th>1</th>\n",
       "      <td>40</td>\n",
       "      <td>56022</td>\n",
       "      <td>4398</td>\n",
       "      <td>110.0</td>\n",
       "      <td>274</td>\n",
       "      <td>1070</td>\n",
       "      <td>553</td>\n",
       "      <td>1231</td>\n",
       "    </tr>\n",
       "    <tr>\n",
       "      <th>2</th>\n",
       "      <td>44</td>\n",
       "      <td>44593</td>\n",
       "      <td>25380</td>\n",
       "      <td>90.0</td>\n",
       "      <td>51</td>\n",
       "      <td>528</td>\n",
       "      <td>468</td>\n",
       "      <td>9032</td>\n",
       "    </tr>\n",
       "    <tr>\n",
       "      <th>3</th>\n",
       "      <td>44</td>\n",
       "      <td>87818</td>\n",
       "      <td>22306</td>\n",
       "      <td>65.0</td>\n",
       "      <td>282</td>\n",
       "      <td>1222</td>\n",
       "      <td>402</td>\n",
       "      <td>11001</td>\n",
       "    </tr>\n",
       "    <tr>\n",
       "      <th>4</th>\n",
       "      <td>15</td>\n",
       "      <td>84626</td>\n",
       "      <td>14260</td>\n",
       "      <td>66.0</td>\n",
       "      <td>313</td>\n",
       "      <td>66</td>\n",
       "      <td>422</td>\n",
       "      <td>5409</td>\n",
       "    </tr>\n",
       "    <tr>\n",
       "      <th>...</th>\n",
       "      <td>...</td>\n",
       "      <td>...</td>\n",
       "      <td>...</td>\n",
       "      <td>...</td>\n",
       "      <td>...</td>\n",
       "      <td>...</td>\n",
       "      <td>...</td>\n",
       "      <td>...</td>\n",
       "    </tr>\n",
       "    <tr>\n",
       "      <th>150925</th>\n",
       "      <td>22</td>\n",
       "      <td>46137</td>\n",
       "      <td>22306</td>\n",
       "      <td>20.0</td>\n",
       "      <td>359</td>\n",
       "      <td>434</td>\n",
       "      <td>616</td>\n",
       "      <td>6281</td>\n",
       "    </tr>\n",
       "    <tr>\n",
       "      <th>150926</th>\n",
       "      <td>15</td>\n",
       "      <td>49511</td>\n",
       "      <td>7256</td>\n",
       "      <td>27.0</td>\n",
       "      <td>72</td>\n",
       "      <td>197</td>\n",
       "      <td>106</td>\n",
       "      <td>7137</td>\n",
       "    </tr>\n",
       "    <tr>\n",
       "      <th>150927</th>\n",
       "      <td>22</td>\n",
       "      <td>76209</td>\n",
       "      <td>26590</td>\n",
       "      <td>20.0</td>\n",
       "      <td>359</td>\n",
       "      <td>434</td>\n",
       "      <td>616</td>\n",
       "      <td>13184</td>\n",
       "    </tr>\n",
       "    <tr>\n",
       "      <th>150928</th>\n",
       "      <td>15</td>\n",
       "      <td>8705</td>\n",
       "      <td>11568</td>\n",
       "      <td>52.0</td>\n",
       "      <td>72</td>\n",
       "      <td>197</td>\n",
       "      <td>106</td>\n",
       "      <td>6934</td>\n",
       "    </tr>\n",
       "    <tr>\n",
       "      <th>150929</th>\n",
       "      <td>22</td>\n",
       "      <td>47247</td>\n",
       "      <td>22306</td>\n",
       "      <td>15.0</td>\n",
       "      <td>272</td>\n",
       "      <td>26</td>\n",
       "      <td>396</td>\n",
       "      <td>319</td>\n",
       "    </tr>\n",
       "  </tbody>\n",
       "</table>\n",
       "<p>150925 rows × 8 columns</p>\n",
       "</div>"
      ],
      "text/plain": [
       "        country  description  designation  price  province  region_1  variety  \\\n",
       "0            44        88311        17271  235.0        51       738       70   \n",
       "1            40        56022         4398  110.0       274      1070      553   \n",
       "2            44        44593        25380   90.0        51       528      468   \n",
       "3            44        87818        22306   65.0       282      1222      402   \n",
       "4            15        84626        14260   66.0       313        66      422   \n",
       "...         ...          ...          ...    ...       ...       ...      ...   \n",
       "150925       22        46137        22306   20.0       359       434      616   \n",
       "150926       15        49511         7256   27.0        72       197      106   \n",
       "150927       22        76209        26590   20.0       359       434      616   \n",
       "150928       15         8705        11568   52.0        72       197      106   \n",
       "150929       22        47247        22306   15.0       272        26      396   \n",
       "\n",
       "        winery  \n",
       "0         7286  \n",
       "1         1231  \n",
       "2         9032  \n",
       "3        11001  \n",
       "4         5409  \n",
       "...        ...  \n",
       "150925    6281  \n",
       "150926    7137  \n",
       "150927   13184  \n",
       "150928    6934  \n",
       "150929     319  \n",
       "\n",
       "[150925 rows x 8 columns]"
      ]
     },
     "execution_count": 18,
     "metadata": {},
     "output_type": "execute_result"
    }
   ],
   "source": [
    "X"
   ]
  },
  {
   "cell_type": "code",
   "execution_count": 19,
   "id": "55388f3f",
   "metadata": {},
   "outputs": [
    {
     "data": {
      "text/plain": [
       "0         96\n",
       "1         96\n",
       "2         96\n",
       "3         96\n",
       "4         95\n",
       "          ..\n",
       "150925    91\n",
       "150926    91\n",
       "150927    91\n",
       "150928    90\n",
       "150929    90\n",
       "Name: points, Length: 150925, dtype: int64"
      ]
     },
     "execution_count": 19,
     "metadata": {},
     "output_type": "execute_result"
    }
   ],
   "source": [
    "Y"
   ]
  },
  {
   "cell_type": "code",
   "execution_count": 20,
   "id": "db13536c",
   "metadata": {},
   "outputs": [
    {
     "data": {
      "text/html": [
       "<div>\n",
       "<style scoped>\n",
       "    .dataframe tbody tr th:only-of-type {\n",
       "        vertical-align: middle;\n",
       "    }\n",
       "\n",
       "    .dataframe tbody tr th {\n",
       "        vertical-align: top;\n",
       "    }\n",
       "\n",
       "    .dataframe thead th {\n",
       "        text-align: right;\n",
       "    }\n",
       "</style>\n",
       "<table border=\"1\" class=\"dataframe\">\n",
       "  <thead>\n",
       "    <tr style=\"text-align: right;\">\n",
       "      <th></th>\n",
       "      <th>country</th>\n",
       "      <th>description</th>\n",
       "      <th>designation</th>\n",
       "      <th>price</th>\n",
       "      <th>province</th>\n",
       "      <th>region_1</th>\n",
       "      <th>variety</th>\n",
       "      <th>winery</th>\n",
       "    </tr>\n",
       "  </thead>\n",
       "  <tbody>\n",
       "    <tr>\n",
       "      <th>count</th>\n",
       "      <td>150925.000000</td>\n",
       "      <td>150925.000000</td>\n",
       "      <td>150925.000000</td>\n",
       "      <td>150925.000000</td>\n",
       "      <td>150925.000000</td>\n",
       "      <td>150925.000000</td>\n",
       "      <td>150925.000000</td>\n",
       "      <td>150925.000000</td>\n",
       "    </tr>\n",
       "    <tr>\n",
       "      <th>mean</th>\n",
       "      <td>29.482968</td>\n",
       "      <td>48387.860613</td>\n",
       "      <td>17396.591897</td>\n",
       "      <td>32.303376</td>\n",
       "      <td>192.342501</td>\n",
       "      <td>642.344072</td>\n",
       "      <td>317.336379</td>\n",
       "      <td>7662.680225</td>\n",
       "    </tr>\n",
       "    <tr>\n",
       "      <th>std</th>\n",
       "      <td>15.017208</td>\n",
       "      <td>28181.398493</td>\n",
       "      <td>8071.961425</td>\n",
       "      <td>34.735076</td>\n",
       "      <td>148.579711</td>\n",
       "      <td>338.738736</td>\n",
       "      <td>182.583897</td>\n",
       "      <td>4272.075735</td>\n",
       "    </tr>\n",
       "    <tr>\n",
       "      <th>min</th>\n",
       "      <td>0.000000</td>\n",
       "      <td>0.000000</td>\n",
       "      <td>0.000000</td>\n",
       "      <td>4.000000</td>\n",
       "      <td>0.000000</td>\n",
       "      <td>0.000000</td>\n",
       "      <td>0.000000</td>\n",
       "      <td>0.000000</td>\n",
       "    </tr>\n",
       "    <tr>\n",
       "      <th>25%</th>\n",
       "      <td>15.000000</td>\n",
       "      <td>23997.000000</td>\n",
       "      <td>10528.000000</td>\n",
       "      <td>16.000000</td>\n",
       "      <td>51.000000</td>\n",
       "      <td>333.000000</td>\n",
       "      <td>110.000000</td>\n",
       "      <td>4265.000000</td>\n",
       "    </tr>\n",
       "    <tr>\n",
       "      <th>50%</th>\n",
       "      <td>33.000000</td>\n",
       "      <td>48266.000000</td>\n",
       "      <td>22306.000000</td>\n",
       "      <td>24.000000</td>\n",
       "      <td>189.000000</td>\n",
       "      <td>738.000000</td>\n",
       "      <td>402.000000</td>\n",
       "      <td>7904.000000</td>\n",
       "    </tr>\n",
       "    <tr>\n",
       "      <th>75%</th>\n",
       "      <td>44.000000</td>\n",
       "      <td>72452.000000</td>\n",
       "      <td>22306.000000</td>\n",
       "      <td>38.000000</td>\n",
       "      <td>323.000000</td>\n",
       "      <td>908.000000</td>\n",
       "      <td>445.000000</td>\n",
       "      <td>11393.000000</td>\n",
       "    </tr>\n",
       "    <tr>\n",
       "      <th>max</th>\n",
       "      <td>47.000000</td>\n",
       "      <td>97817.000000</td>\n",
       "      <td>30617.000000</td>\n",
       "      <td>2300.000000</td>\n",
       "      <td>454.000000</td>\n",
       "      <td>1235.000000</td>\n",
       "      <td>631.000000</td>\n",
       "      <td>14808.000000</td>\n",
       "    </tr>\n",
       "  </tbody>\n",
       "</table>\n",
       "</div>"
      ],
      "text/plain": [
       "             country    description    designation          price  \\\n",
       "count  150925.000000  150925.000000  150925.000000  150925.000000   \n",
       "mean       29.482968   48387.860613   17396.591897      32.303376   \n",
       "std        15.017208   28181.398493    8071.961425      34.735076   \n",
       "min         0.000000       0.000000       0.000000       4.000000   \n",
       "25%        15.000000   23997.000000   10528.000000      16.000000   \n",
       "50%        33.000000   48266.000000   22306.000000      24.000000   \n",
       "75%        44.000000   72452.000000   22306.000000      38.000000   \n",
       "max        47.000000   97817.000000   30617.000000    2300.000000   \n",
       "\n",
       "            province       region_1        variety         winery  \n",
       "count  150925.000000  150925.000000  150925.000000  150925.000000  \n",
       "mean      192.342501     642.344072     317.336379    7662.680225  \n",
       "std       148.579711     338.738736     182.583897    4272.075735  \n",
       "min         0.000000       0.000000       0.000000       0.000000  \n",
       "25%        51.000000     333.000000     110.000000    4265.000000  \n",
       "50%       189.000000     738.000000     402.000000    7904.000000  \n",
       "75%       323.000000     908.000000     445.000000   11393.000000  \n",
       "max       454.000000    1235.000000     631.000000   14808.000000  "
      ]
     },
     "execution_count": 20,
     "metadata": {},
     "output_type": "execute_result"
    }
   ],
   "source": [
    "pd.DataFrame(X, columns=X.columns).describe()"
   ]
  },
  {
   "cell_type": "code",
   "execution_count": 21,
   "id": "f08c10c3",
   "metadata": {},
   "outputs": [
    {
     "name": "stdout",
     "output_type": "stream",
     "text": [
      "(113193, 8), (37732, 8)\n",
      "(113193,), (37732,)\n"
     ]
    }
   ],
   "source": [
    "X_train, X_test, Y_train, Y_test = train_test_split(X, Y, test_size=0.25, random_state=1)\n",
    "print('{}, {}'.format(X_train.shape, X_test.shape))\n",
    "print('{}, {}'.format(Y_train.shape, Y_test.shape))"
   ]
  },
  {
   "cell_type": "markdown",
   "id": "37e78544",
   "metadata": {},
   "source": [
    "# Обучение моделей"
   ]
  },
  {
   "cell_type": "markdown",
   "id": "fd759ea9",
   "metadata": {},
   "source": [
    "## Линейная модель"
   ]
  },
  {
   "cell_type": "code",
   "execution_count": 22,
   "id": "a8b7bbd4",
   "metadata": {},
   "outputs": [
    {
     "data": {
      "text/plain": [
       "SGDClassifier()"
      ]
     },
     "execution_count": 22,
     "metadata": {},
     "output_type": "execute_result"
    }
   ],
   "source": [
    "SGD = SGDClassifier(max_iter=1000)\n",
    "SGD.fit(X_train, Y_train)"
   ]
  },
  {
   "cell_type": "code",
   "execution_count": 24,
   "id": "b0bb7d2a",
   "metadata": {},
   "outputs": [
    {
     "data": {
      "text/plain": [
       "0.11332555920703911"
      ]
     },
     "execution_count": 24,
     "metadata": {},
     "output_type": "execute_result"
    }
   ],
   "source": [
    "from sklearn.metrics import median_absolute_error, r2_score\n",
    "f1_score(Y_test, SGD.predict(X_test), average='micro')"
   ]
  },
  {
   "cell_type": "markdown",
   "id": "df5cb641",
   "metadata": {},
   "source": [
    "## SVM"
   ]
  },
  {
   "cell_type": "code",
   "execution_count": null,
   "id": "70ba0a17",
   "metadata": {},
   "outputs": [],
   "source": [
    "SVC = SVC(kernel='rbf')\n",
    "SVC.fit(X_train, Y_train)"
   ]
  },
  {
   "cell_type": "code",
   "execution_count": null,
   "id": "a6ca3189",
   "metadata": {},
   "outputs": [],
   "source": [
    "f1_score(Y_test, SVC.predict(X_test), average='micro')"
   ]
  },
  {
   "cell_type": "markdown",
   "id": "43599468",
   "metadata": {},
   "source": [
    "## Дерево решений"
   ]
  },
  {
   "cell_type": "code",
   "execution_count": 25,
   "id": "b5b57585",
   "metadata": {},
   "outputs": [
    {
     "data": {
      "text/plain": [
       "DecisionTreeClassifier(random_state=1)"
      ]
     },
     "execution_count": 25,
     "metadata": {},
     "output_type": "execute_result"
    }
   ],
   "source": [
    "DT = DecisionTreeClassifier(random_state=1)\n",
    "DT.fit(X_train, Y_train)"
   ]
  },
  {
   "cell_type": "code",
   "execution_count": 26,
   "id": "2085f40f",
   "metadata": {},
   "outputs": [
    {
     "name": "stdout",
     "output_type": "stream",
     "text": [
      "0.5847026396692463\n"
     ]
    }
   ],
   "source": [
    "print(f1_score(Y_test, DT.predict(X_test), average='micro'))"
   ]
  },
  {
   "cell_type": "code",
   "execution_count": 46,
   "id": "08606dfd",
   "metadata": {},
   "outputs": [
    {
     "data": {
      "image/png": "[encoded data removed]",
      "text/plain": [
       "<Figure size 1080x1080 with 1 Axes>"
      ]
     },
     "metadata": {},
     "output_type": "display_data"
    }
   ],
   "source": [
    "fig, ax = plt.subplots(figsize=(15, 15))\n",
    "clf = DecisionTreeClassifier(max_depth = 3, \n",
    "                             random_state = 0)\n",
    "clf.fit(X_train, Y_train)\n",
    "cn=[ '80',  '81',  '82',  '83',  '84',  '85',  '86',  '87',  '88',  '89',  '90',  '91',  '92',\n",
    "        '93',  '94',  '95',  '96',  '97',  '98',  '99', '100']\n",
    "plot_tree(clf, fontsize=10, class_names=cn, filled=True)\n",
    "plt.show()"
   ]
  },
  {
   "cell_type": "code",
   "execution_count": null,
   "id": "febbe422",
   "metadata": {},
   "outputs": [],
   "source": []
  }
 ],
 "metadata": {
  "kernelspec": {
   "display_name": "Python 3 (ipykernel)",
   "language": "python",
   "name": "python3"
  },
  "language_info": {
   "codemirror_mode": {
    "name": "ipython",
    "version": 3
   },
   "file_extension": ".py",
   "mimetype": "text/x-python",
   "name": "python",
   "nbconvert_exporter": "python",
   "pygments_lexer": "ipython3",
   "version": "3.9.7"
  }
 },
 "nbformat": 4,
 "nbformat_minor": 5
}
