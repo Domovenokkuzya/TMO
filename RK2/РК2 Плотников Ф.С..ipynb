{
 "cells": [
  {
   "cell_type": "markdown",
   "id": "bd7adeb3",
   "metadata": {},
   "source": [
    "# ИУ5-61Б Плотников Ф.С. \n",
    "## Вариант 19\n",
    "### Тема: Методы построения моделей машинного обучения"
   ]
  },
  {
   "cell_type": "markdown",
   "id": "63cfdad8",
   "metadata": {},
   "source": [
    "## Задание\n",
    "### Для заданного набора данных (по Вашему варианту) постройте модели классификации или регрессии (в зависимости от конкретной задачи, рассматриваемой в наборе данных). Для построения моделей используйте методы 1 и 2 (по варианту для Вашей группы). Оцените качество моделей на основе подходящих метрик качества (не менее двух метрик). Какие метрики качества Вы использовали и почему? Какие выводы Вы можете сделать о качестве построенных моделей? Для построения моделей необходимо выполнить требуемую предобработку данных: заполнение пропусков, кодирование категориальных признаков, и т.д.\n",
    "### При решении задач можно выбирать любое подмножество признаков из приведенного набора данных.\n",
    "### Для сокращения времени построения моделей можно использовать фрагмент набора данных (например, первые 200-500 строк).\n",
    "### Методы 1 и 2 для ИУ5-61Б: Линейная/логистическая регрессия, Случайный лес"
   ]
  },
  {
   "cell_type": "markdown",
   "id": "08fae0c8",
   "metadata": {},
   "source": [
    "### Набор данных: https://www.kaggle.com/datasets/arindam235/startup-investments-crunchbase"
   ]
  },
  {
   "cell_type": "code",
   "execution_count": 1,
   "id": "0b267802",
   "metadata": {},
   "outputs": [],
   "source": [
    "# Загрузка необходимых библиотек\n",
    "import pandas as pd\n",
    "import numpy as np\n",
    "import seaborn as sns\n",
    "from sklearn import preprocessing\n",
    "from sklearn import svm\n",
    "from sklearn.model_selection import train_test_split\n",
    "from sklearn.model_selection import cross_val_score\n",
    "import matplotlib.pyplot as plt\n",
    "#from xgboost import XGBClassifier\n",
    "\n",
    "from sklearn.metrics import accuracy_score, balanced_accuracy_score\n",
    "from sklearn.metrics import precision_score, recall_score, f1_score, classification_report\n",
    "from sklearn.metrics import confusion_matrix\n",
    "from sklearn.metrics import mean_absolute_error, mean_squared_error, mean_squared_log_error, median_absolute_error, r2_score \n",
    "from sklearn.metrics import roc_curve, roc_auc_score\n",
    "from sklearn.linear_model import LogisticRegression, LogisticRegressionCV\n",
    "from sklearn.ensemble import RandomForestClassifier\n",
    "\n",
    "from sklearn.ensemble import AdaBoostClassifier\n",
    "from sklearn.impute import SimpleImputer, MissingIndicator"
   ]
  },
  {
   "cell_type": "code",
   "execution_count": 2,
   "id": "390f1bb8",
   "metadata": {},
   "outputs": [
    {
     "data": {
      "text/plain": [
       "False"
      ]
     },
     "execution_count": 2,
     "metadata": {},
     "output_type": "execute_result"
    }
   ],
   "source": [
    "data = pd.read_csv('investments_VC.csv', encoding = \"iso-8859-1\")\n",
    "TARGET_COL_NAME = 'status'\n",
    "TARGET_IS_NUMERIC = data[TARGET_COL_NAME].dtype != 'O'\n",
    "TARGET_IS_NUMERIC"
   ]
  },
  {
   "cell_type": "code",
   "execution_count": 3,
   "id": "c340d1ad",
   "metadata": {},
   "outputs": [
    {
     "data": {
      "text/html": [
       "<div>\n",
       "<style scoped>\n",
       "    .dataframe tbody tr th:only-of-type {\n",
       "        vertical-align: middle;\n",
       "    }\n",
       "\n",
       "    .dataframe tbody tr th {\n",
       "        vertical-align: top;\n",
       "    }\n",
       "\n",
       "    .dataframe thead th {\n",
       "        text-align: right;\n",
       "    }\n",
       "</style>\n",
       "<table border=\"1\" class=\"dataframe\">\n",
       "  <thead>\n",
       "    <tr style=\"text-align: right;\">\n",
       "      <th></th>\n",
       "      <th>permalink</th>\n",
       "      <th>name</th>\n",
       "      <th>homepage_url</th>\n",
       "      <th>category_list</th>\n",
       "      <th>market</th>\n",
       "      <th>funding_total_usd</th>\n",
       "      <th>status</th>\n",
       "      <th>country_code</th>\n",
       "      <th>state_code</th>\n",
       "      <th>region</th>\n",
       "      <th>...</th>\n",
       "      <th>secondary_market</th>\n",
       "      <th>product_crowdfunding</th>\n",
       "      <th>round_A</th>\n",
       "      <th>round_B</th>\n",
       "      <th>round_C</th>\n",
       "      <th>round_D</th>\n",
       "      <th>round_E</th>\n",
       "      <th>round_F</th>\n",
       "      <th>round_G</th>\n",
       "      <th>round_H</th>\n",
       "    </tr>\n",
       "  </thead>\n",
       "  <tbody>\n",
       "    <tr>\n",
       "      <th>0</th>\n",
       "      <td>/organization/waywire</td>\n",
       "      <td>#waywire</td>\n",
       "      <td>http://www.waywire.com</td>\n",
       "      <td>|Entertainment|Politics|Social Media|News|</td>\n",
       "      <td>News</td>\n",
       "      <td>17,50,000</td>\n",
       "      <td>acquired</td>\n",
       "      <td>USA</td>\n",
       "      <td>NY</td>\n",
       "      <td>New York City</td>\n",
       "      <td>...</td>\n",
       "      <td>0.0</td>\n",
       "      <td>0.0</td>\n",
       "      <td>0.0</td>\n",
       "      <td>0.0</td>\n",
       "      <td>0.0</td>\n",
       "      <td>0.0</td>\n",
       "      <td>0.0</td>\n",
       "      <td>0.0</td>\n",
       "      <td>0.0</td>\n",
       "      <td>0.0</td>\n",
       "    </tr>\n",
       "    <tr>\n",
       "      <th>1</th>\n",
       "      <td>/organization/tv-communications</td>\n",
       "      <td>&amp;TV Communications</td>\n",
       "      <td>http://enjoyandtv.com</td>\n",
       "      <td>|Games|</td>\n",
       "      <td>Games</td>\n",
       "      <td>40,00,000</td>\n",
       "      <td>operating</td>\n",
       "      <td>USA</td>\n",
       "      <td>CA</td>\n",
       "      <td>Los Angeles</td>\n",
       "      <td>...</td>\n",
       "      <td>0.0</td>\n",
       "      <td>0.0</td>\n",
       "      <td>0.0</td>\n",
       "      <td>0.0</td>\n",
       "      <td>0.0</td>\n",
       "      <td>0.0</td>\n",
       "      <td>0.0</td>\n",
       "      <td>0.0</td>\n",
       "      <td>0.0</td>\n",
       "      <td>0.0</td>\n",
       "    </tr>\n",
       "    <tr>\n",
       "      <th>2</th>\n",
       "      <td>/organization/rock-your-paper</td>\n",
       "      <td>'Rock' Your Paper</td>\n",
       "      <td>http://www.rockyourpaper.org</td>\n",
       "      <td>|Publishing|Education|</td>\n",
       "      <td>Publishing</td>\n",
       "      <td>40,000</td>\n",
       "      <td>operating</td>\n",
       "      <td>EST</td>\n",
       "      <td>NaN</td>\n",
       "      <td>Tallinn</td>\n",
       "      <td>...</td>\n",
       "      <td>0.0</td>\n",
       "      <td>0.0</td>\n",
       "      <td>0.0</td>\n",
       "      <td>0.0</td>\n",
       "      <td>0.0</td>\n",
       "      <td>0.0</td>\n",
       "      <td>0.0</td>\n",
       "      <td>0.0</td>\n",
       "      <td>0.0</td>\n",
       "      <td>0.0</td>\n",
       "    </tr>\n",
       "    <tr>\n",
       "      <th>3</th>\n",
       "      <td>/organization/in-touch-network</td>\n",
       "      <td>(In)Touch Network</td>\n",
       "      <td>http://www.InTouchNetwork.com</td>\n",
       "      <td>|Electronics|Guides|Coffee|Restaurants|Music|i...</td>\n",
       "      <td>Electronics</td>\n",
       "      <td>15,00,000</td>\n",
       "      <td>operating</td>\n",
       "      <td>GBR</td>\n",
       "      <td>NaN</td>\n",
       "      <td>London</td>\n",
       "      <td>...</td>\n",
       "      <td>0.0</td>\n",
       "      <td>0.0</td>\n",
       "      <td>0.0</td>\n",
       "      <td>0.0</td>\n",
       "      <td>0.0</td>\n",
       "      <td>0.0</td>\n",
       "      <td>0.0</td>\n",
       "      <td>0.0</td>\n",
       "      <td>0.0</td>\n",
       "      <td>0.0</td>\n",
       "    </tr>\n",
       "    <tr>\n",
       "      <th>4</th>\n",
       "      <td>/organization/r-ranch-and-mine</td>\n",
       "      <td>-R- Ranch and Mine</td>\n",
       "      <td>NaN</td>\n",
       "      <td>|Tourism|Entertainment|Games|</td>\n",
       "      <td>Tourism</td>\n",
       "      <td>60,000</td>\n",
       "      <td>operating</td>\n",
       "      <td>USA</td>\n",
       "      <td>TX</td>\n",
       "      <td>Dallas</td>\n",
       "      <td>...</td>\n",
       "      <td>0.0</td>\n",
       "      <td>0.0</td>\n",
       "      <td>0.0</td>\n",
       "      <td>0.0</td>\n",
       "      <td>0.0</td>\n",
       "      <td>0.0</td>\n",
       "      <td>0.0</td>\n",
       "      <td>0.0</td>\n",
       "      <td>0.0</td>\n",
       "      <td>0.0</td>\n",
       "    </tr>\n",
       "    <tr>\n",
       "      <th>...</th>\n",
       "      <td>...</td>\n",
       "      <td>...</td>\n",
       "      <td>...</td>\n",
       "      <td>...</td>\n",
       "      <td>...</td>\n",
       "      <td>...</td>\n",
       "      <td>...</td>\n",
       "      <td>...</td>\n",
       "      <td>...</td>\n",
       "      <td>...</td>\n",
       "      <td>...</td>\n",
       "      <td>...</td>\n",
       "      <td>...</td>\n",
       "      <td>...</td>\n",
       "      <td>...</td>\n",
       "      <td>...</td>\n",
       "      <td>...</td>\n",
       "      <td>...</td>\n",
       "      <td>...</td>\n",
       "      <td>...</td>\n",
       "      <td>...</td>\n",
       "    </tr>\n",
       "    <tr>\n",
       "      <th>1004</th>\n",
       "      <td>/organization/addfleet</td>\n",
       "      <td>AddFleet</td>\n",
       "      <td>http://www.addfleet.com</td>\n",
       "      <td>|Transportation|Mobility|Mobile|</td>\n",
       "      <td>Mobile</td>\n",
       "      <td>41,60,600</td>\n",
       "      <td>closed</td>\n",
       "      <td>ESP</td>\n",
       "      <td>NaN</td>\n",
       "      <td>Barcelona</td>\n",
       "      <td>...</td>\n",
       "      <td>0.0</td>\n",
       "      <td>0.0</td>\n",
       "      <td>3900600.0</td>\n",
       "      <td>0.0</td>\n",
       "      <td>0.0</td>\n",
       "      <td>0.0</td>\n",
       "      <td>0.0</td>\n",
       "      <td>0.0</td>\n",
       "      <td>0.0</td>\n",
       "      <td>0.0</td>\n",
       "    </tr>\n",
       "    <tr>\n",
       "      <th>1005</th>\n",
       "      <td>/organization/addiction-campuses-of-america</td>\n",
       "      <td>Addiction Campuses of America</td>\n",
       "      <td>http://addictioncampus.com/</td>\n",
       "      <td>|Health Care|</td>\n",
       "      <td>Health Care</td>\n",
       "      <td>38,00,000</td>\n",
       "      <td>operating</td>\n",
       "      <td>USA</td>\n",
       "      <td>TN</td>\n",
       "      <td>Nashville</td>\n",
       "      <td>...</td>\n",
       "      <td>0.0</td>\n",
       "      <td>0.0</td>\n",
       "      <td>3800000.0</td>\n",
       "      <td>0.0</td>\n",
       "      <td>0.0</td>\n",
       "      <td>0.0</td>\n",
       "      <td>0.0</td>\n",
       "      <td>0.0</td>\n",
       "      <td>0.0</td>\n",
       "      <td>0.0</td>\n",
       "    </tr>\n",
       "    <tr>\n",
       "      <th>1006</th>\n",
       "      <td>/organization/addictive</td>\n",
       "      <td>Addictive</td>\n",
       "      <td>http://www.pitchtarget.com</td>\n",
       "      <td>NaN</td>\n",
       "      <td>NaN</td>\n",
       "      <td>-</td>\n",
       "      <td>operating</td>\n",
       "      <td>NaN</td>\n",
       "      <td>NaN</td>\n",
       "      <td>NaN</td>\n",
       "      <td>...</td>\n",
       "      <td>0.0</td>\n",
       "      <td>0.0</td>\n",
       "      <td>0.0</td>\n",
       "      <td>0.0</td>\n",
       "      <td>0.0</td>\n",
       "      <td>0.0</td>\n",
       "      <td>0.0</td>\n",
       "      <td>0.0</td>\n",
       "      <td>0.0</td>\n",
       "      <td>0.0</td>\n",
       "    </tr>\n",
       "    <tr>\n",
       "      <th>1007</th>\n",
       "      <td>/organization/arkli</td>\n",
       "      <td>AddIn Social</td>\n",
       "      <td>http://www.addinsocial.com</td>\n",
       "      <td>|Email Marketing|Sales and Marketing|Internet ...</td>\n",
       "      <td>Social Media</td>\n",
       "      <td>54,493</td>\n",
       "      <td>closed</td>\n",
       "      <td>CAN</td>\n",
       "      <td>ON</td>\n",
       "      <td>Ottawa</td>\n",
       "      <td>...</td>\n",
       "      <td>0.0</td>\n",
       "      <td>0.0</td>\n",
       "      <td>0.0</td>\n",
       "      <td>0.0</td>\n",
       "      <td>0.0</td>\n",
       "      <td>0.0</td>\n",
       "      <td>0.0</td>\n",
       "      <td>0.0</td>\n",
       "      <td>0.0</td>\n",
       "      <td>0.0</td>\n",
       "    </tr>\n",
       "    <tr>\n",
       "      <th>1008</th>\n",
       "      <td>/organization/additech</td>\n",
       "      <td>Additech</td>\n",
       "      <td>http://www.additech.com</td>\n",
       "      <td>|Automotive|</td>\n",
       "      <td>Automotive</td>\n",
       "      <td>1,06,00,000</td>\n",
       "      <td>operating</td>\n",
       "      <td>USA</td>\n",
       "      <td>TX</td>\n",
       "      <td>Houston</td>\n",
       "      <td>...</td>\n",
       "      <td>0.0</td>\n",
       "      <td>0.0</td>\n",
       "      <td>0.0</td>\n",
       "      <td>0.0</td>\n",
       "      <td>0.0</td>\n",
       "      <td>0.0</td>\n",
       "      <td>0.0</td>\n",
       "      <td>0.0</td>\n",
       "      <td>0.0</td>\n",
       "      <td>0.0</td>\n",
       "    </tr>\n",
       "  </tbody>\n",
       "</table>\n",
       "<p>1009 rows × 39 columns</p>\n",
       "</div>"
      ],
      "text/plain": [
       "                                        permalink  \\\n",
       "0                           /organization/waywire   \n",
       "1                 /organization/tv-communications   \n",
       "2                   /organization/rock-your-paper   \n",
       "3                  /organization/in-touch-network   \n",
       "4                  /organization/r-ranch-and-mine   \n",
       "...                                           ...   \n",
       "1004                       /organization/addfleet   \n",
       "1005  /organization/addiction-campuses-of-america   \n",
       "1006                      /organization/addictive   \n",
       "1007                          /organization/arkli   \n",
       "1008                       /organization/additech   \n",
       "\n",
       "                               name                   homepage_url  \\\n",
       "0                          #waywire         http://www.waywire.com   \n",
       "1                &TV Communications          http://enjoyandtv.com   \n",
       "2                 'Rock' Your Paper   http://www.rockyourpaper.org   \n",
       "3                 (In)Touch Network  http://www.InTouchNetwork.com   \n",
       "4                -R- Ranch and Mine                            NaN   \n",
       "...                             ...                            ...   \n",
       "1004                       AddFleet        http://www.addfleet.com   \n",
       "1005  Addiction Campuses of America    http://addictioncampus.com/   \n",
       "1006                      Addictive     http://www.pitchtarget.com   \n",
       "1007                   AddIn Social     http://www.addinsocial.com   \n",
       "1008                       Additech        http://www.additech.com   \n",
       "\n",
       "                                          category_list         market   \\\n",
       "0            |Entertainment|Politics|Social Media|News|           News    \n",
       "1                                               |Games|          Games    \n",
       "2                                |Publishing|Education|     Publishing    \n",
       "3     |Electronics|Guides|Coffee|Restaurants|Music|i...    Electronics    \n",
       "4                         |Tourism|Entertainment|Games|        Tourism    \n",
       "...                                                 ...             ...   \n",
       "1004                   |Transportation|Mobility|Mobile|         Mobile    \n",
       "1005                                      |Health Care|    Health Care    \n",
       "1006                                                NaN             NaN   \n",
       "1007  |Email Marketing|Sales and Marketing|Internet ...   Social Media    \n",
       "1008                                       |Automotive|     Automotive    \n",
       "\n",
       "      funding_total_usd      status country_code state_code         region  \\\n",
       "0             17,50,000    acquired          USA         NY  New York City   \n",
       "1             40,00,000   operating          USA         CA    Los Angeles   \n",
       "2                40,000   operating          EST        NaN        Tallinn   \n",
       "3             15,00,000   operating          GBR        NaN         London   \n",
       "4                60,000   operating          USA         TX         Dallas   \n",
       "...                  ...        ...          ...        ...            ...   \n",
       "1004          41,60,600      closed          ESP        NaN      Barcelona   \n",
       "1005          38,00,000   operating          USA         TN      Nashville   \n",
       "1006                -     operating          NaN        NaN            NaN   \n",
       "1007             54,493      closed          CAN         ON         Ottawa   \n",
       "1008        1,06,00,000   operating          USA         TX        Houston   \n",
       "\n",
       "      ... secondary_market  product_crowdfunding    round_A round_B round_C  \\\n",
       "0     ...              0.0                   0.0        0.0     0.0     0.0   \n",
       "1     ...              0.0                   0.0        0.0     0.0     0.0   \n",
       "2     ...              0.0                   0.0        0.0     0.0     0.0   \n",
       "3     ...              0.0                   0.0        0.0     0.0     0.0   \n",
       "4     ...              0.0                   0.0        0.0     0.0     0.0   \n",
       "...   ...              ...                   ...        ...     ...     ...   \n",
       "1004  ...              0.0                   0.0  3900600.0     0.0     0.0   \n",
       "1005  ...              0.0                   0.0  3800000.0     0.0     0.0   \n",
       "1006  ...              0.0                   0.0        0.0     0.0     0.0   \n",
       "1007  ...              0.0                   0.0        0.0     0.0     0.0   \n",
       "1008  ...              0.0                   0.0        0.0     0.0     0.0   \n",
       "\n",
       "      round_D round_E round_F  round_G  round_H  \n",
       "0         0.0     0.0     0.0      0.0      0.0  \n",
       "1         0.0     0.0     0.0      0.0      0.0  \n",
       "2         0.0     0.0     0.0      0.0      0.0  \n",
       "3         0.0     0.0     0.0      0.0      0.0  \n",
       "4         0.0     0.0     0.0      0.0      0.0  \n",
       "...       ...     ...     ...      ...      ...  \n",
       "1004      0.0     0.0     0.0      0.0      0.0  \n",
       "1005      0.0     0.0     0.0      0.0      0.0  \n",
       "1006      0.0     0.0     0.0      0.0      0.0  \n",
       "1007      0.0     0.0     0.0      0.0      0.0  \n",
       "1008      0.0     0.0     0.0      0.0      0.0  \n",
       "\n",
       "[1009 rows x 39 columns]"
      ]
     },
     "execution_count": 3,
     "metadata": {},
     "output_type": "execute_result"
    }
   ],
   "source": [
    "data = data.head(1009)\n",
    "data"
   ]
  },
  {
   "cell_type": "code",
   "execution_count": 4,
   "id": "11169c52",
   "metadata": {},
   "outputs": [
    {
     "data": {
      "text/plain": [
       "permalink                 0\n",
       "name                      0\n",
       "homepage_url             72\n",
       "category_list            78\n",
       " market                  78\n",
       " funding_total_usd        0\n",
       "status                   19\n",
       "country_code            105\n",
       "state_code              417\n",
       "region                  105\n",
       "city                    129\n",
       "funding_rounds            0\n",
       "founded_at              214\n",
       "founded_month           214\n",
       "founded_quarter         214\n",
       "founded_year            214\n",
       "first_funding_at          0\n",
       "last_funding_at           0\n",
       "seed                      0\n",
       "venture                   0\n",
       "equity_crowdfunding       0\n",
       "undisclosed               0\n",
       "convertible_note          0\n",
       "debt_financing            0\n",
       "angel                     0\n",
       "grant                     0\n",
       "private_equity            0\n",
       "post_ipo_equity           0\n",
       "post_ipo_debt             0\n",
       "secondary_market          0\n",
       "product_crowdfunding      0\n",
       "round_A                   0\n",
       "round_B                   0\n",
       "round_C                   0\n",
       "round_D                   0\n",
       "round_E                   0\n",
       "round_F                   0\n",
       "round_G                   0\n",
       "round_H                   0\n",
       "dtype: int64"
      ]
     },
     "execution_count": 4,
     "metadata": {},
     "output_type": "execute_result"
    }
   ],
   "source": [
    "data.isnull().sum()"
   ]
  },
  {
   "cell_type": "code",
   "execution_count": 5,
   "id": "17019d37",
   "metadata": {},
   "outputs": [],
   "source": [
    "data.status = data.status.dropna(axis=0)"
   ]
  },
  {
   "cell_type": "code",
   "execution_count": 6,
   "id": "dc371fad",
   "metadata": {},
   "outputs": [
    {
     "data": {
      "text/html": [
       "<div>\n",
       "<style scoped>\n",
       "    .dataframe tbody tr th:only-of-type {\n",
       "        vertical-align: middle;\n",
       "    }\n",
       "\n",
       "    .dataframe tbody tr th {\n",
       "        vertical-align: top;\n",
       "    }\n",
       "\n",
       "    .dataframe thead th {\n",
       "        text-align: right;\n",
       "    }\n",
       "</style>\n",
       "<table border=\"1\" class=\"dataframe\">\n",
       "  <thead>\n",
       "    <tr style=\"text-align: right;\">\n",
       "      <th></th>\n",
       "      <th>permalink</th>\n",
       "      <th>name</th>\n",
       "      <th>homepage_url</th>\n",
       "      <th>category_list</th>\n",
       "      <th>market</th>\n",
       "      <th>funding_total_usd</th>\n",
       "      <th>status</th>\n",
       "      <th>country_code</th>\n",
       "      <th>state_code</th>\n",
       "      <th>region</th>\n",
       "      <th>...</th>\n",
       "      <th>secondary_market</th>\n",
       "      <th>product_crowdfunding</th>\n",
       "      <th>round_A</th>\n",
       "      <th>round_B</th>\n",
       "      <th>round_C</th>\n",
       "      <th>round_D</th>\n",
       "      <th>round_E</th>\n",
       "      <th>round_F</th>\n",
       "      <th>round_G</th>\n",
       "      <th>round_H</th>\n",
       "    </tr>\n",
       "  </thead>\n",
       "  <tbody>\n",
       "    <tr>\n",
       "      <th>0</th>\n",
       "      <td>/organization/waywire</td>\n",
       "      <td>#waywire</td>\n",
       "      <td>http://www.waywire.com</td>\n",
       "      <td>|Entertainment|Politics|Social Media|News|</td>\n",
       "      <td>News</td>\n",
       "      <td>17,50,000</td>\n",
       "      <td>acquired</td>\n",
       "      <td>USA</td>\n",
       "      <td>NY</td>\n",
       "      <td>New York City</td>\n",
       "      <td>...</td>\n",
       "      <td>0.0</td>\n",
       "      <td>0.0</td>\n",
       "      <td>0.0</td>\n",
       "      <td>0.0</td>\n",
       "      <td>0.0</td>\n",
       "      <td>0.0</td>\n",
       "      <td>0.0</td>\n",
       "      <td>0.0</td>\n",
       "      <td>0.0</td>\n",
       "      <td>0.0</td>\n",
       "    </tr>\n",
       "    <tr>\n",
       "      <th>1</th>\n",
       "      <td>/organization/tv-communications</td>\n",
       "      <td>&amp;TV Communications</td>\n",
       "      <td>http://enjoyandtv.com</td>\n",
       "      <td>|Games|</td>\n",
       "      <td>Games</td>\n",
       "      <td>40,00,000</td>\n",
       "      <td>operating</td>\n",
       "      <td>USA</td>\n",
       "      <td>CA</td>\n",
       "      <td>Los Angeles</td>\n",
       "      <td>...</td>\n",
       "      <td>0.0</td>\n",
       "      <td>0.0</td>\n",
       "      <td>0.0</td>\n",
       "      <td>0.0</td>\n",
       "      <td>0.0</td>\n",
       "      <td>0.0</td>\n",
       "      <td>0.0</td>\n",
       "      <td>0.0</td>\n",
       "      <td>0.0</td>\n",
       "      <td>0.0</td>\n",
       "    </tr>\n",
       "    <tr>\n",
       "      <th>2</th>\n",
       "      <td>/organization/rock-your-paper</td>\n",
       "      <td>'Rock' Your Paper</td>\n",
       "      <td>http://www.rockyourpaper.org</td>\n",
       "      <td>|Publishing|Education|</td>\n",
       "      <td>Publishing</td>\n",
       "      <td>40,000</td>\n",
       "      <td>operating</td>\n",
       "      <td>EST</td>\n",
       "      <td>NaN</td>\n",
       "      <td>Tallinn</td>\n",
       "      <td>...</td>\n",
       "      <td>0.0</td>\n",
       "      <td>0.0</td>\n",
       "      <td>0.0</td>\n",
       "      <td>0.0</td>\n",
       "      <td>0.0</td>\n",
       "      <td>0.0</td>\n",
       "      <td>0.0</td>\n",
       "      <td>0.0</td>\n",
       "      <td>0.0</td>\n",
       "      <td>0.0</td>\n",
       "    </tr>\n",
       "    <tr>\n",
       "      <th>3</th>\n",
       "      <td>/organization/in-touch-network</td>\n",
       "      <td>(In)Touch Network</td>\n",
       "      <td>http://www.InTouchNetwork.com</td>\n",
       "      <td>|Electronics|Guides|Coffee|Restaurants|Music|i...</td>\n",
       "      <td>Electronics</td>\n",
       "      <td>15,00,000</td>\n",
       "      <td>operating</td>\n",
       "      <td>GBR</td>\n",
       "      <td>NaN</td>\n",
       "      <td>London</td>\n",
       "      <td>...</td>\n",
       "      <td>0.0</td>\n",
       "      <td>0.0</td>\n",
       "      <td>0.0</td>\n",
       "      <td>0.0</td>\n",
       "      <td>0.0</td>\n",
       "      <td>0.0</td>\n",
       "      <td>0.0</td>\n",
       "      <td>0.0</td>\n",
       "      <td>0.0</td>\n",
       "      <td>0.0</td>\n",
       "    </tr>\n",
       "    <tr>\n",
       "      <th>4</th>\n",
       "      <td>/organization/r-ranch-and-mine</td>\n",
       "      <td>-R- Ranch and Mine</td>\n",
       "      <td>NaN</td>\n",
       "      <td>|Tourism|Entertainment|Games|</td>\n",
       "      <td>Tourism</td>\n",
       "      <td>60,000</td>\n",
       "      <td>operating</td>\n",
       "      <td>USA</td>\n",
       "      <td>TX</td>\n",
       "      <td>Dallas</td>\n",
       "      <td>...</td>\n",
       "      <td>0.0</td>\n",
       "      <td>0.0</td>\n",
       "      <td>0.0</td>\n",
       "      <td>0.0</td>\n",
       "      <td>0.0</td>\n",
       "      <td>0.0</td>\n",
       "      <td>0.0</td>\n",
       "      <td>0.0</td>\n",
       "      <td>0.0</td>\n",
       "      <td>0.0</td>\n",
       "    </tr>\n",
       "    <tr>\n",
       "      <th>...</th>\n",
       "      <td>...</td>\n",
       "      <td>...</td>\n",
       "      <td>...</td>\n",
       "      <td>...</td>\n",
       "      <td>...</td>\n",
       "      <td>...</td>\n",
       "      <td>...</td>\n",
       "      <td>...</td>\n",
       "      <td>...</td>\n",
       "      <td>...</td>\n",
       "      <td>...</td>\n",
       "      <td>...</td>\n",
       "      <td>...</td>\n",
       "      <td>...</td>\n",
       "      <td>...</td>\n",
       "      <td>...</td>\n",
       "      <td>...</td>\n",
       "      <td>...</td>\n",
       "      <td>...</td>\n",
       "      <td>...</td>\n",
       "      <td>...</td>\n",
       "    </tr>\n",
       "    <tr>\n",
       "      <th>1004</th>\n",
       "      <td>/organization/addfleet</td>\n",
       "      <td>AddFleet</td>\n",
       "      <td>http://www.addfleet.com</td>\n",
       "      <td>|Transportation|Mobility|Mobile|</td>\n",
       "      <td>Mobile</td>\n",
       "      <td>41,60,600</td>\n",
       "      <td>closed</td>\n",
       "      <td>ESP</td>\n",
       "      <td>NaN</td>\n",
       "      <td>Barcelona</td>\n",
       "      <td>...</td>\n",
       "      <td>0.0</td>\n",
       "      <td>0.0</td>\n",
       "      <td>3900600.0</td>\n",
       "      <td>0.0</td>\n",
       "      <td>0.0</td>\n",
       "      <td>0.0</td>\n",
       "      <td>0.0</td>\n",
       "      <td>0.0</td>\n",
       "      <td>0.0</td>\n",
       "      <td>0.0</td>\n",
       "    </tr>\n",
       "    <tr>\n",
       "      <th>1005</th>\n",
       "      <td>/organization/addiction-campuses-of-america</td>\n",
       "      <td>Addiction Campuses of America</td>\n",
       "      <td>http://addictioncampus.com/</td>\n",
       "      <td>|Health Care|</td>\n",
       "      <td>Health Care</td>\n",
       "      <td>38,00,000</td>\n",
       "      <td>operating</td>\n",
       "      <td>USA</td>\n",
       "      <td>TN</td>\n",
       "      <td>Nashville</td>\n",
       "      <td>...</td>\n",
       "      <td>0.0</td>\n",
       "      <td>0.0</td>\n",
       "      <td>3800000.0</td>\n",
       "      <td>0.0</td>\n",
       "      <td>0.0</td>\n",
       "      <td>0.0</td>\n",
       "      <td>0.0</td>\n",
       "      <td>0.0</td>\n",
       "      <td>0.0</td>\n",
       "      <td>0.0</td>\n",
       "    </tr>\n",
       "    <tr>\n",
       "      <th>1006</th>\n",
       "      <td>/organization/addictive</td>\n",
       "      <td>Addictive</td>\n",
       "      <td>http://www.pitchtarget.com</td>\n",
       "      <td>NaN</td>\n",
       "      <td>NaN</td>\n",
       "      <td>-</td>\n",
       "      <td>operating</td>\n",
       "      <td>NaN</td>\n",
       "      <td>NaN</td>\n",
       "      <td>NaN</td>\n",
       "      <td>...</td>\n",
       "      <td>0.0</td>\n",
       "      <td>0.0</td>\n",
       "      <td>0.0</td>\n",
       "      <td>0.0</td>\n",
       "      <td>0.0</td>\n",
       "      <td>0.0</td>\n",
       "      <td>0.0</td>\n",
       "      <td>0.0</td>\n",
       "      <td>0.0</td>\n",
       "      <td>0.0</td>\n",
       "    </tr>\n",
       "    <tr>\n",
       "      <th>1007</th>\n",
       "      <td>/organization/arkli</td>\n",
       "      <td>AddIn Social</td>\n",
       "      <td>http://www.addinsocial.com</td>\n",
       "      <td>|Email Marketing|Sales and Marketing|Internet ...</td>\n",
       "      <td>Social Media</td>\n",
       "      <td>54,493</td>\n",
       "      <td>closed</td>\n",
       "      <td>CAN</td>\n",
       "      <td>ON</td>\n",
       "      <td>Ottawa</td>\n",
       "      <td>...</td>\n",
       "      <td>0.0</td>\n",
       "      <td>0.0</td>\n",
       "      <td>0.0</td>\n",
       "      <td>0.0</td>\n",
       "      <td>0.0</td>\n",
       "      <td>0.0</td>\n",
       "      <td>0.0</td>\n",
       "      <td>0.0</td>\n",
       "      <td>0.0</td>\n",
       "      <td>0.0</td>\n",
       "    </tr>\n",
       "    <tr>\n",
       "      <th>1008</th>\n",
       "      <td>/organization/additech</td>\n",
       "      <td>Additech</td>\n",
       "      <td>http://www.additech.com</td>\n",
       "      <td>|Automotive|</td>\n",
       "      <td>Automotive</td>\n",
       "      <td>1,06,00,000</td>\n",
       "      <td>operating</td>\n",
       "      <td>USA</td>\n",
       "      <td>TX</td>\n",
       "      <td>Houston</td>\n",
       "      <td>...</td>\n",
       "      <td>0.0</td>\n",
       "      <td>0.0</td>\n",
       "      <td>0.0</td>\n",
       "      <td>0.0</td>\n",
       "      <td>0.0</td>\n",
       "      <td>0.0</td>\n",
       "      <td>0.0</td>\n",
       "      <td>0.0</td>\n",
       "      <td>0.0</td>\n",
       "      <td>0.0</td>\n",
       "    </tr>\n",
       "  </tbody>\n",
       "</table>\n",
       "<p>1009 rows × 39 columns</p>\n",
       "</div>"
      ],
      "text/plain": [
       "                                        permalink  \\\n",
       "0                           /organization/waywire   \n",
       "1                 /organization/tv-communications   \n",
       "2                   /organization/rock-your-paper   \n",
       "3                  /organization/in-touch-network   \n",
       "4                  /organization/r-ranch-and-mine   \n",
       "...                                           ...   \n",
       "1004                       /organization/addfleet   \n",
       "1005  /organization/addiction-campuses-of-america   \n",
       "1006                      /organization/addictive   \n",
       "1007                          /organization/arkli   \n",
       "1008                       /organization/additech   \n",
       "\n",
       "                               name                   homepage_url  \\\n",
       "0                          #waywire         http://www.waywire.com   \n",
       "1                &TV Communications          http://enjoyandtv.com   \n",
       "2                 'Rock' Your Paper   http://www.rockyourpaper.org   \n",
       "3                 (In)Touch Network  http://www.InTouchNetwork.com   \n",
       "4                -R- Ranch and Mine                            NaN   \n",
       "...                             ...                            ...   \n",
       "1004                       AddFleet        http://www.addfleet.com   \n",
       "1005  Addiction Campuses of America    http://addictioncampus.com/   \n",
       "1006                      Addictive     http://www.pitchtarget.com   \n",
       "1007                   AddIn Social     http://www.addinsocial.com   \n",
       "1008                       Additech        http://www.additech.com   \n",
       "\n",
       "                                          category_list         market   \\\n",
       "0            |Entertainment|Politics|Social Media|News|           News    \n",
       "1                                               |Games|          Games    \n",
       "2                                |Publishing|Education|     Publishing    \n",
       "3     |Electronics|Guides|Coffee|Restaurants|Music|i...    Electronics    \n",
       "4                         |Tourism|Entertainment|Games|        Tourism    \n",
       "...                                                 ...             ...   \n",
       "1004                   |Transportation|Mobility|Mobile|         Mobile    \n",
       "1005                                      |Health Care|    Health Care    \n",
       "1006                                                NaN             NaN   \n",
       "1007  |Email Marketing|Sales and Marketing|Internet ...   Social Media    \n",
       "1008                                       |Automotive|     Automotive    \n",
       "\n",
       "      funding_total_usd      status country_code state_code         region  \\\n",
       "0             17,50,000    acquired          USA         NY  New York City   \n",
       "1             40,00,000   operating          USA         CA    Los Angeles   \n",
       "2                40,000   operating          EST        NaN        Tallinn   \n",
       "3             15,00,000   operating          GBR        NaN         London   \n",
       "4                60,000   operating          USA         TX         Dallas   \n",
       "...                  ...        ...          ...        ...            ...   \n",
       "1004          41,60,600      closed          ESP        NaN      Barcelona   \n",
       "1005          38,00,000   operating          USA         TN      Nashville   \n",
       "1006                -     operating          NaN        NaN            NaN   \n",
       "1007             54,493      closed          CAN         ON         Ottawa   \n",
       "1008        1,06,00,000   operating          USA         TX        Houston   \n",
       "\n",
       "      ... secondary_market  product_crowdfunding    round_A round_B round_C  \\\n",
       "0     ...              0.0                   0.0        0.0     0.0     0.0   \n",
       "1     ...              0.0                   0.0        0.0     0.0     0.0   \n",
       "2     ...              0.0                   0.0        0.0     0.0     0.0   \n",
       "3     ...              0.0                   0.0        0.0     0.0     0.0   \n",
       "4     ...              0.0                   0.0        0.0     0.0     0.0   \n",
       "...   ...              ...                   ...        ...     ...     ...   \n",
       "1004  ...              0.0                   0.0  3900600.0     0.0     0.0   \n",
       "1005  ...              0.0                   0.0  3800000.0     0.0     0.0   \n",
       "1006  ...              0.0                   0.0        0.0     0.0     0.0   \n",
       "1007  ...              0.0                   0.0        0.0     0.0     0.0   \n",
       "1008  ...              0.0                   0.0        0.0     0.0     0.0   \n",
       "\n",
       "      round_D round_E round_F  round_G  round_H  \n",
       "0         0.0     0.0     0.0      0.0      0.0  \n",
       "1         0.0     0.0     0.0      0.0      0.0  \n",
       "2         0.0     0.0     0.0      0.0      0.0  \n",
       "3         0.0     0.0     0.0      0.0      0.0  \n",
       "4         0.0     0.0     0.0      0.0      0.0  \n",
       "...       ...     ...     ...      ...      ...  \n",
       "1004      0.0     0.0     0.0      0.0      0.0  \n",
       "1005      0.0     0.0     0.0      0.0      0.0  \n",
       "1006      0.0     0.0     0.0      0.0      0.0  \n",
       "1007      0.0     0.0     0.0      0.0      0.0  \n",
       "1008      0.0     0.0     0.0      0.0      0.0  \n",
       "\n",
       "[1009 rows x 39 columns]"
      ]
     },
     "execution_count": 6,
     "metadata": {},
     "output_type": "execute_result"
    }
   ],
   "source": [
    "data"
   ]
  },
  {
   "cell_type": "markdown",
   "id": "c0c36321",
   "metadata": {},
   "source": [
    "## Удалим колонки, которые не влияют на целевой признак status"
   ]
  },
  {
   "cell_type": "code",
   "execution_count": 7,
   "id": "f75f68d6",
   "metadata": {},
   "outputs": [
    {
     "data": {
      "text/plain": [
       "(1009, 36)"
      ]
     },
     "execution_count": 7,
     "metadata": {},
     "output_type": "execute_result"
    }
   ],
   "source": [
    "data.drop(columns=['permalink'], inplace=True)\n",
    "data.drop(columns=['homepage_url'], inplace=True)\n",
    "data.drop(columns=['name'], inplace=True) \n",
    "data.shape"
   ]
  },
  {
   "cell_type": "markdown",
   "id": "7f102451",
   "metadata": {},
   "source": [
    "## Закодируем категориальные признаки"
   ]
  },
  {
   "cell_type": "code",
   "execution_count": 8,
   "id": "5a8636fb",
   "metadata": {},
   "outputs": [],
   "source": [
    "not_number_cols = data.select_dtypes(include=['object'])\n",
    "number_cols = data.select_dtypes(exclude=['object'])"
   ]
  },
  {
   "cell_type": "code",
   "execution_count": 9,
   "id": "ddf5d3d6",
   "metadata": {},
   "outputs": [
    {
     "data": {
      "text/html": [
       "<div>\n",
       "<style scoped>\n",
       "    .dataframe tbody tr th:only-of-type {\n",
       "        vertical-align: middle;\n",
       "    }\n",
       "\n",
       "    .dataframe tbody tr th {\n",
       "        vertical-align: top;\n",
       "    }\n",
       "\n",
       "    .dataframe thead th {\n",
       "        text-align: right;\n",
       "    }\n",
       "</style>\n",
       "<table border=\"1\" class=\"dataframe\">\n",
       "  <thead>\n",
       "    <tr style=\"text-align: right;\">\n",
       "      <th></th>\n",
       "      <th>category_list</th>\n",
       "      <th>market</th>\n",
       "      <th>funding_total_usd</th>\n",
       "      <th>status</th>\n",
       "      <th>country_code</th>\n",
       "      <th>state_code</th>\n",
       "      <th>region</th>\n",
       "      <th>city</th>\n",
       "      <th>funding_rounds</th>\n",
       "      <th>founded_at</th>\n",
       "      <th>...</th>\n",
       "      <th>secondary_market</th>\n",
       "      <th>product_crowdfunding</th>\n",
       "      <th>round_A</th>\n",
       "      <th>round_B</th>\n",
       "      <th>round_C</th>\n",
       "      <th>round_D</th>\n",
       "      <th>round_E</th>\n",
       "      <th>round_F</th>\n",
       "      <th>round_G</th>\n",
       "      <th>round_H</th>\n",
       "    </tr>\n",
       "  </thead>\n",
       "  <tbody>\n",
       "    <tr>\n",
       "      <th>0</th>\n",
       "      <td>122</td>\n",
       "      <td>119</td>\n",
       "      <td>161</td>\n",
       "      <td>0</td>\n",
       "      <td>44</td>\n",
       "      <td>30</td>\n",
       "      <td>141</td>\n",
       "      <td>243</td>\n",
       "      <td>1.0</td>\n",
       "      <td>196</td>\n",
       "      <td>...</td>\n",
       "      <td>0.0</td>\n",
       "      <td>0.0</td>\n",
       "      <td>0.0</td>\n",
       "      <td>0.0</td>\n",
       "      <td>0.0</td>\n",
       "      <td>0.0</td>\n",
       "      <td>0.0</td>\n",
       "      <td>0.0</td>\n",
       "      <td>0.0</td>\n",
       "      <td>0.0</td>\n",
       "    </tr>\n",
       "    <tr>\n",
       "      <th>1</th>\n",
       "      <td>145</td>\n",
       "      <td>71</td>\n",
       "      <td>356</td>\n",
       "      <td>2</td>\n",
       "      <td>44</td>\n",
       "      <td>5</td>\n",
       "      <td>112</td>\n",
       "      <td>203</td>\n",
       "      <td>2.0</td>\n",
       "      <td>268</td>\n",
       "      <td>...</td>\n",
       "      <td>0.0</td>\n",
       "      <td>0.0</td>\n",
       "      <td>0.0</td>\n",
       "      <td>0.0</td>\n",
       "      <td>0.0</td>\n",
       "      <td>0.0</td>\n",
       "      <td>0.0</td>\n",
       "      <td>0.0</td>\n",
       "      <td>0.0</td>\n",
       "      <td>0.0</td>\n",
       "    </tr>\n",
       "    <tr>\n",
       "      <th>2</th>\n",
       "      <td>275</td>\n",
       "      <td>135</td>\n",
       "      <td>357</td>\n",
       "      <td>2</td>\n",
       "      <td>16</td>\n",
       "      <td>46</td>\n",
       "      <td>204</td>\n",
       "      <td>356</td>\n",
       "      <td>1.0</td>\n",
       "      <td>206</td>\n",
       "      <td>...</td>\n",
       "      <td>0.0</td>\n",
       "      <td>0.0</td>\n",
       "      <td>0.0</td>\n",
       "      <td>0.0</td>\n",
       "      <td>0.0</td>\n",
       "      <td>0.0</td>\n",
       "      <td>0.0</td>\n",
       "      <td>0.0</td>\n",
       "      <td>0.0</td>\n",
       "      <td>0.0</td>\n",
       "    </tr>\n",
       "    <tr>\n",
       "      <th>3</th>\n",
       "      <td>108</td>\n",
       "      <td>56</td>\n",
       "      <td>136</td>\n",
       "      <td>2</td>\n",
       "      <td>19</td>\n",
       "      <td>46</td>\n",
       "      <td>110</td>\n",
       "      <td>200</td>\n",
       "      <td>1.0</td>\n",
       "      <td>159</td>\n",
       "      <td>...</td>\n",
       "      <td>0.0</td>\n",
       "      <td>0.0</td>\n",
       "      <td>0.0</td>\n",
       "      <td>0.0</td>\n",
       "      <td>0.0</td>\n",
       "      <td>0.0</td>\n",
       "      <td>0.0</td>\n",
       "      <td>0.0</td>\n",
       "      <td>0.0</td>\n",
       "      <td>0.0</td>\n",
       "    </tr>\n",
       "    <tr>\n",
       "      <th>4</th>\n",
       "      <td>369</td>\n",
       "      <td>166</td>\n",
       "      <td>444</td>\n",
       "      <td>2</td>\n",
       "      <td>44</td>\n",
       "      <td>40</td>\n",
       "      <td>53</td>\n",
       "      <td>120</td>\n",
       "      <td>2.0</td>\n",
       "      <td>249</td>\n",
       "      <td>...</td>\n",
       "      <td>0.0</td>\n",
       "      <td>0.0</td>\n",
       "      <td>0.0</td>\n",
       "      <td>0.0</td>\n",
       "      <td>0.0</td>\n",
       "      <td>0.0</td>\n",
       "      <td>0.0</td>\n",
       "      <td>0.0</td>\n",
       "      <td>0.0</td>\n",
       "      <td>0.0</td>\n",
       "    </tr>\n",
       "    <tr>\n",
       "      <th>...</th>\n",
       "      <td>...</td>\n",
       "      <td>...</td>\n",
       "      <td>...</td>\n",
       "      <td>...</td>\n",
       "      <td>...</td>\n",
       "      <td>...</td>\n",
       "      <td>...</td>\n",
       "      <td>...</td>\n",
       "      <td>...</td>\n",
       "      <td>...</td>\n",
       "      <td>...</td>\n",
       "      <td>...</td>\n",
       "      <td>...</td>\n",
       "      <td>...</td>\n",
       "      <td>...</td>\n",
       "      <td>...</td>\n",
       "      <td>...</td>\n",
       "      <td>...</td>\n",
       "      <td>...</td>\n",
       "      <td>...</td>\n",
       "      <td>...</td>\n",
       "    </tr>\n",
       "    <tr>\n",
       "      <th>1004</th>\n",
       "      <td>374</td>\n",
       "      <td>107</td>\n",
       "      <td>364</td>\n",
       "      <td>1</td>\n",
       "      <td>15</td>\n",
       "      <td>46</td>\n",
       "      <td>19</td>\n",
       "      <td>21</td>\n",
       "      <td>2.0</td>\n",
       "      <td>179</td>\n",
       "      <td>...</td>\n",
       "      <td>0.0</td>\n",
       "      <td>0.0</td>\n",
       "      <td>3900600.0</td>\n",
       "      <td>0.0</td>\n",
       "      <td>0.0</td>\n",
       "      <td>0.0</td>\n",
       "      <td>0.0</td>\n",
       "      <td>0.0</td>\n",
       "      <td>0.0</td>\n",
       "      <td>0.0</td>\n",
       "    </tr>\n",
       "    <tr>\n",
       "      <th>1005</th>\n",
       "      <td>154</td>\n",
       "      <td>74</td>\n",
       "      <td>325</td>\n",
       "      <td>2</td>\n",
       "      <td>44</td>\n",
       "      <td>39</td>\n",
       "      <td>136</td>\n",
       "      <td>45</td>\n",
       "      <td>2.0</td>\n",
       "      <td>268</td>\n",
       "      <td>...</td>\n",
       "      <td>0.0</td>\n",
       "      <td>0.0</td>\n",
       "      <td>3800000.0</td>\n",
       "      <td>0.0</td>\n",
       "      <td>0.0</td>\n",
       "      <td>0.0</td>\n",
       "      <td>0.0</td>\n",
       "      <td>0.0</td>\n",
       "      <td>0.0</td>\n",
       "      <td>0.0</td>\n",
       "    </tr>\n",
       "    <tr>\n",
       "      <th>1006</th>\n",
       "      <td>410</td>\n",
       "      <td>183</td>\n",
       "      <td>0</td>\n",
       "      <td>2</td>\n",
       "      <td>46</td>\n",
       "      <td>46</td>\n",
       "      <td>228</td>\n",
       "      <td>409</td>\n",
       "      <td>1.0</td>\n",
       "      <td>247</td>\n",
       "      <td>...</td>\n",
       "      <td>0.0</td>\n",
       "      <td>0.0</td>\n",
       "      <td>0.0</td>\n",
       "      <td>0.0</td>\n",
       "      <td>0.0</td>\n",
       "      <td>0.0</td>\n",
       "      <td>0.0</td>\n",
       "      <td>0.0</td>\n",
       "      <td>0.0</td>\n",
       "      <td>0.0</td>\n",
       "    </tr>\n",
       "    <tr>\n",
       "      <th>1007</th>\n",
       "      <td>110</td>\n",
       "      <td>152</td>\n",
       "      <td>417</td>\n",
       "      <td>1</td>\n",
       "      <td>6</td>\n",
       "      <td>33</td>\n",
       "      <td>150</td>\n",
       "      <td>256</td>\n",
       "      <td>2.0</td>\n",
       "      <td>147</td>\n",
       "      <td>...</td>\n",
       "      <td>0.0</td>\n",
       "      <td>0.0</td>\n",
       "      <td>0.0</td>\n",
       "      <td>0.0</td>\n",
       "      <td>0.0</td>\n",
       "      <td>0.0</td>\n",
       "      <td>0.0</td>\n",
       "      <td>0.0</td>\n",
       "      <td>0.0</td>\n",
       "      <td>0.0</td>\n",
       "    </tr>\n",
       "    <tr>\n",
       "      <th>1008</th>\n",
       "      <td>27</td>\n",
       "      <td>13</td>\n",
       "      <td>13</td>\n",
       "      <td>2</td>\n",
       "      <td>44</td>\n",
       "      <td>40</td>\n",
       "      <td>85</td>\n",
       "      <td>150</td>\n",
       "      <td>3.0</td>\n",
       "      <td>20</td>\n",
       "      <td>...</td>\n",
       "      <td>0.0</td>\n",
       "      <td>0.0</td>\n",
       "      <td>0.0</td>\n",
       "      <td>0.0</td>\n",
       "      <td>0.0</td>\n",
       "      <td>0.0</td>\n",
       "      <td>0.0</td>\n",
       "      <td>0.0</td>\n",
       "      <td>0.0</td>\n",
       "      <td>0.0</td>\n",
       "    </tr>\n",
       "  </tbody>\n",
       "</table>\n",
       "<p>1009 rows × 36 columns</p>\n",
       "</div>"
      ],
      "text/plain": [
       "      category_list   market    funding_total_usd   status  country_code  \\\n",
       "0               122       119                  161       0            44   \n",
       "1               145        71                  356       2            44   \n",
       "2               275       135                  357       2            16   \n",
       "3               108        56                  136       2            19   \n",
       "4               369       166                  444       2            44   \n",
       "...             ...       ...                  ...     ...           ...   \n",
       "1004            374       107                  364       1            15   \n",
       "1005            154        74                  325       2            44   \n",
       "1006            410       183                    0       2            46   \n",
       "1007            110       152                  417       1             6   \n",
       "1008             27        13                   13       2            44   \n",
       "\n",
       "      state_code  region  city  funding_rounds  founded_at  ...  \\\n",
       "0             30     141   243             1.0         196  ...   \n",
       "1              5     112   203             2.0         268  ...   \n",
       "2             46     204   356             1.0         206  ...   \n",
       "3             46     110   200             1.0         159  ...   \n",
       "4             40      53   120             2.0         249  ...   \n",
       "...          ...     ...   ...             ...         ...  ...   \n",
       "1004          46      19    21             2.0         179  ...   \n",
       "1005          39     136    45             2.0         268  ...   \n",
       "1006          46     228   409             1.0         247  ...   \n",
       "1007          33     150   256             2.0         147  ...   \n",
       "1008          40      85   150             3.0          20  ...   \n",
       "\n",
       "      secondary_market  product_crowdfunding    round_A  round_B  round_C  \\\n",
       "0                  0.0                   0.0        0.0      0.0      0.0   \n",
       "1                  0.0                   0.0        0.0      0.0      0.0   \n",
       "2                  0.0                   0.0        0.0      0.0      0.0   \n",
       "3                  0.0                   0.0        0.0      0.0      0.0   \n",
       "4                  0.0                   0.0        0.0      0.0      0.0   \n",
       "...                ...                   ...        ...      ...      ...   \n",
       "1004               0.0                   0.0  3900600.0      0.0      0.0   \n",
       "1005               0.0                   0.0  3800000.0      0.0      0.0   \n",
       "1006               0.0                   0.0        0.0      0.0      0.0   \n",
       "1007               0.0                   0.0        0.0      0.0      0.0   \n",
       "1008               0.0                   0.0        0.0      0.0      0.0   \n",
       "\n",
       "      round_D  round_E  round_F  round_G  round_H  \n",
       "0         0.0      0.0      0.0      0.0      0.0  \n",
       "1         0.0      0.0      0.0      0.0      0.0  \n",
       "2         0.0      0.0      0.0      0.0      0.0  \n",
       "3         0.0      0.0      0.0      0.0      0.0  \n",
       "4         0.0      0.0      0.0      0.0      0.0  \n",
       "...       ...      ...      ...      ...      ...  \n",
       "1004      0.0      0.0      0.0      0.0      0.0  \n",
       "1005      0.0      0.0      0.0      0.0      0.0  \n",
       "1006      0.0      0.0      0.0      0.0      0.0  \n",
       "1007      0.0      0.0      0.0      0.0      0.0  \n",
       "1008      0.0      0.0      0.0      0.0      0.0  \n",
       "\n",
       "[1009 rows x 36 columns]"
      ]
     },
     "execution_count": 9,
     "metadata": {},
     "output_type": "execute_result"
    }
   ],
   "source": [
    "le = preprocessing.LabelEncoder()\n",
    "\n",
    "for col_name in not_number_cols:\n",
    "    data[col_name] = le.fit_transform(data[col_name])\n",
    "    \n",
    "data"
   ]
  },
  {
   "cell_type": "markdown",
   "id": "c2cc9bfd",
   "metadata": {},
   "source": [
    "## Обработка пропусков"
   ]
  },
  {
   "cell_type": "code",
   "execution_count": 10,
   "id": "78fcd6ce",
   "metadata": {},
   "outputs": [
    {
     "data": {
      "text/plain": [
       "category_list             0\n",
       " market                   0\n",
       " funding_total_usd        0\n",
       "status                    0\n",
       "country_code              0\n",
       "state_code                0\n",
       "region                    0\n",
       "city                      0\n",
       "funding_rounds            0\n",
       "founded_at                0\n",
       "founded_month             0\n",
       "founded_quarter           0\n",
       "founded_year            214\n",
       "first_funding_at          0\n",
       "last_funding_at           0\n",
       "seed                      0\n",
       "venture                   0\n",
       "equity_crowdfunding       0\n",
       "undisclosed               0\n",
       "convertible_note          0\n",
       "debt_financing            0\n",
       "angel                     0\n",
       "grant                     0\n",
       "private_equity            0\n",
       "post_ipo_equity           0\n",
       "post_ipo_debt             0\n",
       "secondary_market          0\n",
       "product_crowdfunding      0\n",
       "round_A                   0\n",
       "round_B                   0\n",
       "round_C                   0\n",
       "round_D                   0\n",
       "round_E                   0\n",
       "round_F                   0\n",
       "round_G                   0\n",
       "round_H                   0\n",
       "dtype: int64"
      ]
     },
     "execution_count": 10,
     "metadata": {},
     "output_type": "execute_result"
    }
   ],
   "source": [
    "data.isnull().sum()"
   ]
  },
  {
   "cell_type": "code",
   "execution_count": 11,
   "id": "ebc782d0",
   "metadata": {},
   "outputs": [],
   "source": [
    "def test_num_impute_col(dataset, column, strategy_param):\n",
    "    temp_data = dataset[[column]]\n",
    "    \n",
    "    indicator = MissingIndicator()\n",
    "    mask_missing_values_only = indicator.fit_transform(temp_data)\n",
    "    \n",
    "    imp_num = SimpleImputer(strategy=strategy_param)\n",
    "    data_num_imp = imp_num.fit_transform(temp_data)\n",
    "    \n",
    "    filled_data = data_num_imp[mask_missing_values_only]\n",
    "    \n",
    "    return column, strategy_param, filled_data.size, filled_data[0], filled_data[filled_data.size-1]\n",
    "\n",
    "strategies=['mean', 'median', 'most_frequent']\n",
    "data.founded_year.fillna(test_num_impute_col(data, 'founded_year', strategies[1])[3], inplace=True)"
   ]
  },
  {
   "cell_type": "code",
   "execution_count": 12,
   "id": "6c3e7bff",
   "metadata": {},
   "outputs": [
    {
     "data": {
      "text/plain": [
       "category_list           0\n",
       " market                 0\n",
       " funding_total_usd      0\n",
       "status                  0\n",
       "country_code            0\n",
       "state_code              0\n",
       "region                  0\n",
       "city                    0\n",
       "funding_rounds          0\n",
       "founded_at              0\n",
       "founded_month           0\n",
       "founded_quarter         0\n",
       "founded_year            0\n",
       "first_funding_at        0\n",
       "last_funding_at         0\n",
       "seed                    0\n",
       "venture                 0\n",
       "equity_crowdfunding     0\n",
       "undisclosed             0\n",
       "convertible_note        0\n",
       "debt_financing          0\n",
       "angel                   0\n",
       "grant                   0\n",
       "private_equity          0\n",
       "post_ipo_equity         0\n",
       "post_ipo_debt           0\n",
       "secondary_market        0\n",
       "product_crowdfunding    0\n",
       "round_A                 0\n",
       "round_B                 0\n",
       "round_C                 0\n",
       "round_D                 0\n",
       "round_E                 0\n",
       "round_F                 0\n",
       "round_G                 0\n",
       "round_H                 0\n",
       "dtype: int64"
      ]
     },
     "execution_count": 12,
     "metadata": {},
     "output_type": "execute_result"
    }
   ],
   "source": [
    "data.isnull().sum()"
   ]
  },
  {
   "cell_type": "code",
   "execution_count": 13,
   "id": "db3c4e05",
   "metadata": {},
   "outputs": [],
   "source": [
    "# Я возьму первые 9 столбцов\n",
    "data = data.iloc[:, 0:9]\n"
   ]
  },
  {
   "cell_type": "code",
   "execution_count": 14,
   "id": "23168a28",
   "metadata": {},
   "outputs": [
    {
     "data": {
      "text/html": [
       "<div>\n",
       "<style scoped>\n",
       "    .dataframe tbody tr th:only-of-type {\n",
       "        vertical-align: middle;\n",
       "    }\n",
       "\n",
       "    .dataframe tbody tr th {\n",
       "        vertical-align: top;\n",
       "    }\n",
       "\n",
       "    .dataframe thead th {\n",
       "        text-align: right;\n",
       "    }\n",
       "</style>\n",
       "<table border=\"1\" class=\"dataframe\">\n",
       "  <thead>\n",
       "    <tr style=\"text-align: right;\">\n",
       "      <th></th>\n",
       "      <th>category_list</th>\n",
       "      <th>market</th>\n",
       "      <th>funding_total_usd</th>\n",
       "      <th>status</th>\n",
       "      <th>country_code</th>\n",
       "      <th>state_code</th>\n",
       "      <th>region</th>\n",
       "      <th>city</th>\n",
       "      <th>funding_rounds</th>\n",
       "    </tr>\n",
       "  </thead>\n",
       "  <tbody>\n",
       "    <tr>\n",
       "      <th>0</th>\n",
       "      <td>122</td>\n",
       "      <td>119</td>\n",
       "      <td>161</td>\n",
       "      <td>0</td>\n",
       "      <td>44</td>\n",
       "      <td>30</td>\n",
       "      <td>141</td>\n",
       "      <td>243</td>\n",
       "      <td>1.0</td>\n",
       "    </tr>\n",
       "    <tr>\n",
       "      <th>1</th>\n",
       "      <td>145</td>\n",
       "      <td>71</td>\n",
       "      <td>356</td>\n",
       "      <td>2</td>\n",
       "      <td>44</td>\n",
       "      <td>5</td>\n",
       "      <td>112</td>\n",
       "      <td>203</td>\n",
       "      <td>2.0</td>\n",
       "    </tr>\n",
       "    <tr>\n",
       "      <th>2</th>\n",
       "      <td>275</td>\n",
       "      <td>135</td>\n",
       "      <td>357</td>\n",
       "      <td>2</td>\n",
       "      <td>16</td>\n",
       "      <td>46</td>\n",
       "      <td>204</td>\n",
       "      <td>356</td>\n",
       "      <td>1.0</td>\n",
       "    </tr>\n",
       "    <tr>\n",
       "      <th>3</th>\n",
       "      <td>108</td>\n",
       "      <td>56</td>\n",
       "      <td>136</td>\n",
       "      <td>2</td>\n",
       "      <td>19</td>\n",
       "      <td>46</td>\n",
       "      <td>110</td>\n",
       "      <td>200</td>\n",
       "      <td>1.0</td>\n",
       "    </tr>\n",
       "    <tr>\n",
       "      <th>4</th>\n",
       "      <td>369</td>\n",
       "      <td>166</td>\n",
       "      <td>444</td>\n",
       "      <td>2</td>\n",
       "      <td>44</td>\n",
       "      <td>40</td>\n",
       "      <td>53</td>\n",
       "      <td>120</td>\n",
       "      <td>2.0</td>\n",
       "    </tr>\n",
       "    <tr>\n",
       "      <th>...</th>\n",
       "      <td>...</td>\n",
       "      <td>...</td>\n",
       "      <td>...</td>\n",
       "      <td>...</td>\n",
       "      <td>...</td>\n",
       "      <td>...</td>\n",
       "      <td>...</td>\n",
       "      <td>...</td>\n",
       "      <td>...</td>\n",
       "    </tr>\n",
       "    <tr>\n",
       "      <th>1004</th>\n",
       "      <td>374</td>\n",
       "      <td>107</td>\n",
       "      <td>364</td>\n",
       "      <td>1</td>\n",
       "      <td>15</td>\n",
       "      <td>46</td>\n",
       "      <td>19</td>\n",
       "      <td>21</td>\n",
       "      <td>2.0</td>\n",
       "    </tr>\n",
       "    <tr>\n",
       "      <th>1005</th>\n",
       "      <td>154</td>\n",
       "      <td>74</td>\n",
       "      <td>325</td>\n",
       "      <td>2</td>\n",
       "      <td>44</td>\n",
       "      <td>39</td>\n",
       "      <td>136</td>\n",
       "      <td>45</td>\n",
       "      <td>2.0</td>\n",
       "    </tr>\n",
       "    <tr>\n",
       "      <th>1006</th>\n",
       "      <td>410</td>\n",
       "      <td>183</td>\n",
       "      <td>0</td>\n",
       "      <td>2</td>\n",
       "      <td>46</td>\n",
       "      <td>46</td>\n",
       "      <td>228</td>\n",
       "      <td>409</td>\n",
       "      <td>1.0</td>\n",
       "    </tr>\n",
       "    <tr>\n",
       "      <th>1007</th>\n",
       "      <td>110</td>\n",
       "      <td>152</td>\n",
       "      <td>417</td>\n",
       "      <td>1</td>\n",
       "      <td>6</td>\n",
       "      <td>33</td>\n",
       "      <td>150</td>\n",
       "      <td>256</td>\n",
       "      <td>2.0</td>\n",
       "    </tr>\n",
       "    <tr>\n",
       "      <th>1008</th>\n",
       "      <td>27</td>\n",
       "      <td>13</td>\n",
       "      <td>13</td>\n",
       "      <td>2</td>\n",
       "      <td>44</td>\n",
       "      <td>40</td>\n",
       "      <td>85</td>\n",
       "      <td>150</td>\n",
       "      <td>3.0</td>\n",
       "    </tr>\n",
       "  </tbody>\n",
       "</table>\n",
       "<p>1009 rows × 9 columns</p>\n",
       "</div>"
      ],
      "text/plain": [
       "      category_list   market    funding_total_usd   status  country_code  \\\n",
       "0               122       119                  161       0            44   \n",
       "1               145        71                  356       2            44   \n",
       "2               275       135                  357       2            16   \n",
       "3               108        56                  136       2            19   \n",
       "4               369       166                  444       2            44   \n",
       "...             ...       ...                  ...     ...           ...   \n",
       "1004            374       107                  364       1            15   \n",
       "1005            154        74                  325       2            44   \n",
       "1006            410       183                    0       2            46   \n",
       "1007            110       152                  417       1             6   \n",
       "1008             27        13                   13       2            44   \n",
       "\n",
       "      state_code  region  city  funding_rounds  \n",
       "0             30     141   243             1.0  \n",
       "1              5     112   203             2.0  \n",
       "2             46     204   356             1.0  \n",
       "3             46     110   200             1.0  \n",
       "4             40      53   120             2.0  \n",
       "...          ...     ...   ...             ...  \n",
       "1004          46      19    21             2.0  \n",
       "1005          39     136    45             2.0  \n",
       "1006          46     228   409             1.0  \n",
       "1007          33     150   256             2.0  \n",
       "1008          40      85   150             3.0  \n",
       "\n",
       "[1009 rows x 9 columns]"
      ]
     },
     "execution_count": 14,
     "metadata": {},
     "output_type": "execute_result"
    }
   ],
   "source": [
    "data"
   ]
  },
  {
   "cell_type": "markdown",
   "id": "8b70f38e",
   "metadata": {},
   "source": [
    "## Делим выборку на обучающую и тренировочную"
   ]
  },
  {
   "cell_type": "code",
   "execution_count": 15,
   "id": "1f9f16db",
   "metadata": {},
   "outputs": [],
   "source": [
    "target = data[TARGET_COL_NAME]\n",
    "data_X_train, data_X_test, data_y_train, data_y_test = train_test_split(\n",
    "    data, target, test_size=0.2, random_state=1)"
   ]
  },
  {
   "cell_type": "code",
   "execution_count": 16,
   "id": "1f63dd8c",
   "metadata": {},
   "outputs": [
    {
     "data": {
      "text/plain": [
       "((807, 9), (807,))"
      ]
     },
     "execution_count": 16,
     "metadata": {},
     "output_type": "execute_result"
    }
   ],
   "source": [
    "data_X_train.shape, data_y_train.shape"
   ]
  },
  {
   "cell_type": "code",
   "execution_count": 17,
   "id": "d6168860",
   "metadata": {},
   "outputs": [
    {
     "data": {
      "text/plain": [
       "((202, 9), (202,))"
      ]
     },
     "execution_count": 17,
     "metadata": {},
     "output_type": "execute_result"
    }
   ],
   "source": [
    "data_X_test.shape, data_y_test.shape"
   ]
  },
  {
   "cell_type": "code",
   "execution_count": 18,
   "id": "c674120b",
   "metadata": {},
   "outputs": [
    {
     "data": {
      "text/plain": [
       "array([0, 1, 2, 3])"
      ]
     },
     "execution_count": 18,
     "metadata": {},
     "output_type": "execute_result"
    }
   ],
   "source": [
    "np.unique(target)"
   ]
  },
  {
   "cell_type": "markdown",
   "id": "746a4a4b",
   "metadata": {},
   "source": [
    "## Логистическая регрессия"
   ]
  },
  {
   "cell_type": "code",
   "execution_count": 19,
   "id": "70963b3d",
   "metadata": {},
   "outputs": [
    {
     "name": "stderr",
     "output_type": "stream",
     "text": [
      "C:\\Users\\user\\anaconda3\\lib\\site-packages\\sklearn\\linear_model\\_logistic.py:444: ConvergenceWarning: lbfgs failed to converge (status=1):\n",
      "STOP: TOTAL NO. of ITERATIONS REACHED LIMIT.\n",
      "\n",
      "Increase the number of iterations (max_iter) or scale the data as shown in:\n",
      "    https://scikit-learn.org/stable/modules/preprocessing.html\n",
      "Please also refer to the documentation for alternative solver options:\n",
      "    https://scikit-learn.org/stable/modules/linear_model.html#logistic-regression\n",
      "  n_iter_i = _check_optimize_result(\n"
     ]
    },
    {
     "data": {
      "text/html": [
       "<style>#sk-container-id-1 {color: black;background-color: white;}#sk-container-id-1 pre{padding: 0;}#sk-container-id-1 div.sk-toggleable {background-color: white;}#sk-container-id-1 label.sk-toggleable__label {cursor: pointer;display: block;width: 100%;margin-bottom: 0;padding: 0.3em;box-sizing: border-box;text-align: center;}#sk-container-id-1 label.sk-toggleable__label-arrow:before {content: \"▸\";float: left;margin-right: 0.25em;color: #696969;}#sk-container-id-1 label.sk-toggleable__label-arrow:hover:before {color: black;}#sk-container-id-1 div.sk-estimator:hover label.sk-toggleable__label-arrow:before {color: black;}#sk-container-id-1 div.sk-toggleable__content {max-height: 0;max-width: 0;overflow: hidden;text-align: left;background-color: #f0f8ff;}#sk-container-id-1 div.sk-toggleable__content pre {margin: 0.2em;color: black;border-radius: 0.25em;background-color: #f0f8ff;}#sk-container-id-1 input.sk-toggleable__control:checked~div.sk-toggleable__content {max-height: 200px;max-width: 100%;overflow: auto;}#sk-container-id-1 input.sk-toggleable__control:checked~label.sk-toggleable__label-arrow:before {content: \"▾\";}#sk-container-id-1 div.sk-estimator input.sk-toggleable__control:checked~label.sk-toggleable__label {background-color: #d4ebff;}#sk-container-id-1 div.sk-label input.sk-toggleable__control:checked~label.sk-toggleable__label {background-color: #d4ebff;}#sk-container-id-1 input.sk-hidden--visually {border: 0;clip: rect(1px 1px 1px 1px);clip: rect(1px, 1px, 1px, 1px);height: 1px;margin: -1px;overflow: hidden;padding: 0;position: absolute;width: 1px;}#sk-container-id-1 div.sk-estimator {font-family: monospace;background-color: #f0f8ff;border: 1px dotted black;border-radius: 0.25em;box-sizing: border-box;margin-bottom: 0.5em;}#sk-container-id-1 div.sk-estimator:hover {background-color: #d4ebff;}#sk-container-id-1 div.sk-parallel-item::after {content: \"\";width: 100%;border-bottom: 1px solid gray;flex-grow: 1;}#sk-container-id-1 div.sk-label:hover label.sk-toggleable__label {background-color: #d4ebff;}#sk-container-id-1 div.sk-serial::before {content: \"\";position: absolute;border-left: 1px solid gray;box-sizing: border-box;top: 0;bottom: 0;left: 50%;z-index: 0;}#sk-container-id-1 div.sk-serial {display: flex;flex-direction: column;align-items: center;background-color: white;padding-right: 0.2em;padding-left: 0.2em;position: relative;}#sk-container-id-1 div.sk-item {position: relative;z-index: 1;}#sk-container-id-1 div.sk-parallel {display: flex;align-items: stretch;justify-content: center;background-color: white;position: relative;}#sk-container-id-1 div.sk-item::before, #sk-container-id-1 div.sk-parallel-item::before {content: \"\";position: absolute;border-left: 1px solid gray;box-sizing: border-box;top: 0;bottom: 0;left: 50%;z-index: -1;}#sk-container-id-1 div.sk-parallel-item {display: flex;flex-direction: column;z-index: 1;position: relative;background-color: white;}#sk-container-id-1 div.sk-parallel-item:first-child::after {align-self: flex-end;width: 50%;}#sk-container-id-1 div.sk-parallel-item:last-child::after {align-self: flex-start;width: 50%;}#sk-container-id-1 div.sk-parallel-item:only-child::after {width: 0;}#sk-container-id-1 div.sk-dashed-wrapped {border: 1px dashed gray;margin: 0 0.4em 0.5em 0.4em;box-sizing: border-box;padding-bottom: 0.4em;background-color: white;}#sk-container-id-1 div.sk-label label {font-family: monospace;font-weight: bold;display: inline-block;line-height: 1.2em;}#sk-container-id-1 div.sk-label-container {text-align: center;}#sk-container-id-1 div.sk-container {/* jupyter's `normalize.less` sets `[hidden] { display: none; }` but bootstrap.min.css set `[hidden] { display: none !important; }` so we also need the `!important` here to be able to override the default hidden behavior on the sphinx rendered scikit-learn.org. See: https://github.com/scikit-learn/scikit-learn/issues/21755 */display: inline-block !important;position: relative;}#sk-container-id-1 div.sk-text-repr-fallback {display: none;}</style><div id=\"sk-container-id-1\" class=\"sk-top-container\"><div class=\"sk-text-repr-fallback\"><pre>LogisticRegression(max_iter=1000)</pre><b>In a Jupyter environment, please rerun this cell to show the HTML representation or trust the notebook. <br />On GitHub, the HTML representation is unable to render, please try loading this page with nbviewer.org.</b></div><div class=\"sk-container\" hidden><div class=\"sk-item\"><div class=\"sk-estimator sk-toggleable\"><input class=\"sk-toggleable__control sk-hidden--visually\" id=\"sk-estimator-id-1\" type=\"checkbox\" checked><label for=\"sk-estimator-id-1\" class=\"sk-toggleable__label sk-toggleable__label-arrow\">LogisticRegression</label><div class=\"sk-toggleable__content\"><pre>LogisticRegression(max_iter=1000)</pre></div></div></div></div></div>"
      ],
      "text/plain": [
       "LogisticRegression(max_iter=1000)"
      ]
     },
     "execution_count": 19,
     "metadata": {},
     "output_type": "execute_result"
    }
   ],
   "source": [
    "svr_1 = LogisticRegression(solver='lbfgs', max_iter=1000)\n",
    "svr_1.fit(data_X_train, data_y_train)"
   ]
  },
  {
   "cell_type": "code",
   "execution_count": 20,
   "id": "a8f85211",
   "metadata": {},
   "outputs": [
    {
     "data": {
      "text/plain": [
       "0.9653465346534653"
      ]
     },
     "execution_count": 20,
     "metadata": {},
     "output_type": "execute_result"
    }
   ],
   "source": [
    "data_y_pred_1 = svr_1.predict(data_X_test)\n",
    "accuracy_score(data_y_test, data_y_pred_1)"
   ]
  },
  {
   "cell_type": "code",
   "execution_count": 21,
   "id": "dc600173",
   "metadata": {},
   "outputs": [
    {
     "data": {
      "text/plain": [
       "0.9653465346534653"
      ]
     },
     "execution_count": 21,
     "metadata": {},
     "output_type": "execute_result"
    }
   ],
   "source": [
    "f1_score(data_y_test, data_y_pred_1, average='micro')"
   ]
  },
  {
   "cell_type": "code",
   "execution_count": 22,
   "id": "c20f39c9",
   "metadata": {},
   "outputs": [
    {
     "data": {
      "text/plain": [
       "0.7258117236870778"
      ]
     },
     "execution_count": 22,
     "metadata": {},
     "output_type": "execute_result"
    }
   ],
   "source": [
    "f1_score(data_y_test, data_y_pred_1, average='macro')"
   ]
  },
  {
   "cell_type": "code",
   "execution_count": 23,
   "id": "4c9ad804",
   "metadata": {},
   "outputs": [
    {
     "data": {
      "text/plain": [
       "0.9506482354489535"
      ]
     },
     "execution_count": 23,
     "metadata": {},
     "output_type": "execute_result"
    }
   ],
   "source": [
    "f1_score(data_y_test, data_y_pred_1, average='weighted')"
   ]
  },
  {
   "cell_type": "code",
   "execution_count": 24,
   "id": "5d07a7af",
   "metadata": {},
   "outputs": [
    {
     "data": {
      "text/html": [
       "<style>#sk-container-id-2 {color: black;background-color: white;}#sk-container-id-2 pre{padding: 0;}#sk-container-id-2 div.sk-toggleable {background-color: white;}#sk-container-id-2 label.sk-toggleable__label {cursor: pointer;display: block;width: 100%;margin-bottom: 0;padding: 0.3em;box-sizing: border-box;text-align: center;}#sk-container-id-2 label.sk-toggleable__label-arrow:before {content: \"▸\";float: left;margin-right: 0.25em;color: #696969;}#sk-container-id-2 label.sk-toggleable__label-arrow:hover:before {color: black;}#sk-container-id-2 div.sk-estimator:hover label.sk-toggleable__label-arrow:before {color: black;}#sk-container-id-2 div.sk-toggleable__content {max-height: 0;max-width: 0;overflow: hidden;text-align: left;background-color: #f0f8ff;}#sk-container-id-2 div.sk-toggleable__content pre {margin: 0.2em;color: black;border-radius: 0.25em;background-color: #f0f8ff;}#sk-container-id-2 input.sk-toggleable__control:checked~div.sk-toggleable__content {max-height: 200px;max-width: 100%;overflow: auto;}#sk-container-id-2 input.sk-toggleable__control:checked~label.sk-toggleable__label-arrow:before {content: \"▾\";}#sk-container-id-2 div.sk-estimator input.sk-toggleable__control:checked~label.sk-toggleable__label {background-color: #d4ebff;}#sk-container-id-2 div.sk-label input.sk-toggleable__control:checked~label.sk-toggleable__label {background-color: #d4ebff;}#sk-container-id-2 input.sk-hidden--visually {border: 0;clip: rect(1px 1px 1px 1px);clip: rect(1px, 1px, 1px, 1px);height: 1px;margin: -1px;overflow: hidden;padding: 0;position: absolute;width: 1px;}#sk-container-id-2 div.sk-estimator {font-family: monospace;background-color: #f0f8ff;border: 1px dotted black;border-radius: 0.25em;box-sizing: border-box;margin-bottom: 0.5em;}#sk-container-id-2 div.sk-estimator:hover {background-color: #d4ebff;}#sk-container-id-2 div.sk-parallel-item::after {content: \"\";width: 100%;border-bottom: 1px solid gray;flex-grow: 1;}#sk-container-id-2 div.sk-label:hover label.sk-toggleable__label {background-color: #d4ebff;}#sk-container-id-2 div.sk-serial::before {content: \"\";position: absolute;border-left: 1px solid gray;box-sizing: border-box;top: 0;bottom: 0;left: 50%;z-index: 0;}#sk-container-id-2 div.sk-serial {display: flex;flex-direction: column;align-items: center;background-color: white;padding-right: 0.2em;padding-left: 0.2em;position: relative;}#sk-container-id-2 div.sk-item {position: relative;z-index: 1;}#sk-container-id-2 div.sk-parallel {display: flex;align-items: stretch;justify-content: center;background-color: white;position: relative;}#sk-container-id-2 div.sk-item::before, #sk-container-id-2 div.sk-parallel-item::before {content: \"\";position: absolute;border-left: 1px solid gray;box-sizing: border-box;top: 0;bottom: 0;left: 50%;z-index: -1;}#sk-container-id-2 div.sk-parallel-item {display: flex;flex-direction: column;z-index: 1;position: relative;background-color: white;}#sk-container-id-2 div.sk-parallel-item:first-child::after {align-self: flex-end;width: 50%;}#sk-container-id-2 div.sk-parallel-item:last-child::after {align-self: flex-start;width: 50%;}#sk-container-id-2 div.sk-parallel-item:only-child::after {width: 0;}#sk-container-id-2 div.sk-dashed-wrapped {border: 1px dashed gray;margin: 0 0.4em 0.5em 0.4em;box-sizing: border-box;padding-bottom: 0.4em;background-color: white;}#sk-container-id-2 div.sk-label label {font-family: monospace;font-weight: bold;display: inline-block;line-height: 1.2em;}#sk-container-id-2 div.sk-label-container {text-align: center;}#sk-container-id-2 div.sk-container {/* jupyter's `normalize.less` sets `[hidden] { display: none; }` but bootstrap.min.css set `[hidden] { display: none !important; }` so we also need the `!important` here to be able to override the default hidden behavior on the sphinx rendered scikit-learn.org. See: https://github.com/scikit-learn/scikit-learn/issues/21755 */display: inline-block !important;position: relative;}#sk-container-id-2 div.sk-text-repr-fallback {display: none;}</style><div id=\"sk-container-id-2\" class=\"sk-top-container\"><div class=\"sk-text-repr-fallback\"><pre>LogisticRegression(max_iter=10000)</pre><b>In a Jupyter environment, please rerun this cell to show the HTML representation or trust the notebook. <br />On GitHub, the HTML representation is unable to render, please try loading this page with nbviewer.org.</b></div><div class=\"sk-container\" hidden><div class=\"sk-item\"><div class=\"sk-estimator sk-toggleable\"><input class=\"sk-toggleable__control sk-hidden--visually\" id=\"sk-estimator-id-2\" type=\"checkbox\" checked><label for=\"sk-estimator-id-2\" class=\"sk-toggleable__label sk-toggleable__label-arrow\">LogisticRegression</label><div class=\"sk-toggleable__content\"><pre>LogisticRegression(max_iter=10000)</pre></div></div></div></div></div>"
      ],
      "text/plain": [
       "LogisticRegression(max_iter=10000)"
      ]
     },
     "execution_count": 24,
     "metadata": {},
     "output_type": "execute_result"
    }
   ],
   "source": [
    "svr_2 = LogisticRegression(solver='lbfgs', max_iter=10000)\n",
    "svr_2.fit(data_X_train, data_y_train)"
   ]
  },
  {
   "cell_type": "code",
   "execution_count": 25,
   "id": "68406c2e",
   "metadata": {},
   "outputs": [
    {
     "data": {
      "text/plain": [
       "0.9801980198019802"
      ]
     },
     "execution_count": 25,
     "metadata": {},
     "output_type": "execute_result"
    }
   ],
   "source": [
    "data_y_pred_2 = svr_2.predict(data_X_test)\n",
    "accuracy_score(data_y_test, data_y_pred_2)"
   ]
  },
  {
   "cell_type": "code",
   "execution_count": 26,
   "id": "0bdfe157",
   "metadata": {},
   "outputs": [
    {
     "data": {
      "text/plain": [
       "0.9801980198019802"
      ]
     },
     "execution_count": 26,
     "metadata": {},
     "output_type": "execute_result"
    }
   ],
   "source": [
    "f1_score(data_y_test, data_y_pred_2, average='micro')"
   ]
  },
  {
   "cell_type": "code",
   "execution_count": 27,
   "id": "fb7c67a8",
   "metadata": {},
   "outputs": [
    {
     "data": {
      "text/plain": [
       "0.8721428571428571"
      ]
     },
     "execution_count": 27,
     "metadata": {},
     "output_type": "execute_result"
    }
   ],
   "source": [
    "f1_score(data_y_test, data_y_pred_2, average='macro')"
   ]
  },
  {
   "cell_type": "code",
   "execution_count": 28,
   "id": "89d3a51f",
   "metadata": {},
   "outputs": [
    {
     "data": {
      "text/plain": [
       "0.9753606789250353"
      ]
     },
     "execution_count": 28,
     "metadata": {},
     "output_type": "execute_result"
    }
   ],
   "source": [
    "f1_score(data_y_test, data_y_pred_2, average='weighted')"
   ]
  },
  {
   "cell_type": "markdown",
   "id": "9fc400a9",
   "metadata": {},
   "source": [
    "## Случайный лес"
   ]
  },
  {
   "cell_type": "code",
   "execution_count": 29,
   "id": "2ee568d8",
   "metadata": {},
   "outputs": [
    {
     "data": {
      "text/html": [
       "<style>#sk-container-id-3 {color: black;background-color: white;}#sk-container-id-3 pre{padding: 0;}#sk-container-id-3 div.sk-toggleable {background-color: white;}#sk-container-id-3 label.sk-toggleable__label {cursor: pointer;display: block;width: 100%;margin-bottom: 0;padding: 0.3em;box-sizing: border-box;text-align: center;}#sk-container-id-3 label.sk-toggleable__label-arrow:before {content: \"▸\";float: left;margin-right: 0.25em;color: #696969;}#sk-container-id-3 label.sk-toggleable__label-arrow:hover:before {color: black;}#sk-container-id-3 div.sk-estimator:hover label.sk-toggleable__label-arrow:before {color: black;}#sk-container-id-3 div.sk-toggleable__content {max-height: 0;max-width: 0;overflow: hidden;text-align: left;background-color: #f0f8ff;}#sk-container-id-3 div.sk-toggleable__content pre {margin: 0.2em;color: black;border-radius: 0.25em;background-color: #f0f8ff;}#sk-container-id-3 input.sk-toggleable__control:checked~div.sk-toggleable__content {max-height: 200px;max-width: 100%;overflow: auto;}#sk-container-id-3 input.sk-toggleable__control:checked~label.sk-toggleable__label-arrow:before {content: \"▾\";}#sk-container-id-3 div.sk-estimator input.sk-toggleable__control:checked~label.sk-toggleable__label {background-color: #d4ebff;}#sk-container-id-3 div.sk-label input.sk-toggleable__control:checked~label.sk-toggleable__label {background-color: #d4ebff;}#sk-container-id-3 input.sk-hidden--visually {border: 0;clip: rect(1px 1px 1px 1px);clip: rect(1px, 1px, 1px, 1px);height: 1px;margin: -1px;overflow: hidden;padding: 0;position: absolute;width: 1px;}#sk-container-id-3 div.sk-estimator {font-family: monospace;background-color: #f0f8ff;border: 1px dotted black;border-radius: 0.25em;box-sizing: border-box;margin-bottom: 0.5em;}#sk-container-id-3 div.sk-estimator:hover {background-color: #d4ebff;}#sk-container-id-3 div.sk-parallel-item::after {content: \"\";width: 100%;border-bottom: 1px solid gray;flex-grow: 1;}#sk-container-id-3 div.sk-label:hover label.sk-toggleable__label {background-color: #d4ebff;}#sk-container-id-3 div.sk-serial::before {content: \"\";position: absolute;border-left: 1px solid gray;box-sizing: border-box;top: 0;bottom: 0;left: 50%;z-index: 0;}#sk-container-id-3 div.sk-serial {display: flex;flex-direction: column;align-items: center;background-color: white;padding-right: 0.2em;padding-left: 0.2em;position: relative;}#sk-container-id-3 div.sk-item {position: relative;z-index: 1;}#sk-container-id-3 div.sk-parallel {display: flex;align-items: stretch;justify-content: center;background-color: white;position: relative;}#sk-container-id-3 div.sk-item::before, #sk-container-id-3 div.sk-parallel-item::before {content: \"\";position: absolute;border-left: 1px solid gray;box-sizing: border-box;top: 0;bottom: 0;left: 50%;z-index: -1;}#sk-container-id-3 div.sk-parallel-item {display: flex;flex-direction: column;z-index: 1;position: relative;background-color: white;}#sk-container-id-3 div.sk-parallel-item:first-child::after {align-self: flex-end;width: 50%;}#sk-container-id-3 div.sk-parallel-item:last-child::after {align-self: flex-start;width: 50%;}#sk-container-id-3 div.sk-parallel-item:only-child::after {width: 0;}#sk-container-id-3 div.sk-dashed-wrapped {border: 1px dashed gray;margin: 0 0.4em 0.5em 0.4em;box-sizing: border-box;padding-bottom: 0.4em;background-color: white;}#sk-container-id-3 div.sk-label label {font-family: monospace;font-weight: bold;display: inline-block;line-height: 1.2em;}#sk-container-id-3 div.sk-label-container {text-align: center;}#sk-container-id-3 div.sk-container {/* jupyter's `normalize.less` sets `[hidden] { display: none; }` but bootstrap.min.css set `[hidden] { display: none !important; }` so we also need the `!important` here to be able to override the default hidden behavior on the sphinx rendered scikit-learn.org. See: https://github.com/scikit-learn/scikit-learn/issues/21755 */display: inline-block !important;position: relative;}#sk-container-id-3 div.sk-text-repr-fallback {display: none;}</style><div id=\"sk-container-id-3\" class=\"sk-top-container\"><div class=\"sk-text-repr-fallback\"><pre>RandomForestClassifier(n_estimators=15, random_state=123)</pre><b>In a Jupyter environment, please rerun this cell to show the HTML representation or trust the notebook. <br />On GitHub, the HTML representation is unable to render, please try loading this page with nbviewer.org.</b></div><div class=\"sk-container\" hidden><div class=\"sk-item\"><div class=\"sk-estimator sk-toggleable\"><input class=\"sk-toggleable__control sk-hidden--visually\" id=\"sk-estimator-id-3\" type=\"checkbox\" checked><label for=\"sk-estimator-id-3\" class=\"sk-toggleable__label sk-toggleable__label-arrow\">RandomForestClassifier</label><div class=\"sk-toggleable__content\"><pre>RandomForestClassifier(n_estimators=15, random_state=123)</pre></div></div></div></div></div>"
      ],
      "text/plain": [
       "RandomForestClassifier(n_estimators=15, random_state=123)"
      ]
     },
     "execution_count": 29,
     "metadata": {},
     "output_type": "execute_result"
    }
   ],
   "source": [
    "RT = RandomForestClassifier(n_estimators=15, random_state=123)\n",
    "RT.fit(data_X_train, data_y_train)"
   ]
  },
  {
   "cell_type": "code",
   "execution_count": 30,
   "id": "69c144f5",
   "metadata": {},
   "outputs": [
    {
     "data": {
      "text/plain": [
       "0.9900990099009901"
      ]
     },
     "execution_count": 30,
     "metadata": {},
     "output_type": "execute_result"
    }
   ],
   "source": [
    "\n",
    "accuracy_score(data_y_test, RT.predict(data_X_test))"
   ]
  },
  {
   "cell_type": "code",
   "execution_count": 31,
   "id": "ace5d7f5",
   "metadata": {},
   "outputs": [
    {
     "data": {
      "text/plain": [
       "0.9653465346534653"
      ]
     },
     "execution_count": 31,
     "metadata": {},
     "output_type": "execute_result"
    }
   ],
   "source": [
    "f1_score(data_y_test, data_y_pred_1, average='micro')"
   ]
  },
  {
   "cell_type": "code",
   "execution_count": 32,
   "id": "58661ef4",
   "metadata": {},
   "outputs": [
    {
     "data": {
      "text/plain": [
       "0.7258117236870778"
      ]
     },
     "execution_count": 32,
     "metadata": {},
     "output_type": "execute_result"
    }
   ],
   "source": [
    "f1_score(data_y_test, data_y_pred_1, average='macro')"
   ]
  },
  {
   "cell_type": "code",
   "execution_count": 33,
   "id": "48de530e",
   "metadata": {},
   "outputs": [
    {
     "data": {
      "text/plain": [
       "0.9506482354489535"
      ]
     },
     "execution_count": 33,
     "metadata": {},
     "output_type": "execute_result"
    }
   ],
   "source": [
    "f1_score(data_y_test, data_y_pred_1, average='weighted')"
   ]
  },
  {
   "cell_type": "code",
   "execution_count": 34,
   "id": "3082885e",
   "metadata": {},
   "outputs": [
    {
     "data": {
      "text/html": [
       "<style>#sk-container-id-4 {color: black;background-color: white;}#sk-container-id-4 pre{padding: 0;}#sk-container-id-4 div.sk-toggleable {background-color: white;}#sk-container-id-4 label.sk-toggleable__label {cursor: pointer;display: block;width: 100%;margin-bottom: 0;padding: 0.3em;box-sizing: border-box;text-align: center;}#sk-container-id-4 label.sk-toggleable__label-arrow:before {content: \"▸\";float: left;margin-right: 0.25em;color: #696969;}#sk-container-id-4 label.sk-toggleable__label-arrow:hover:before {color: black;}#sk-container-id-4 div.sk-estimator:hover label.sk-toggleable__label-arrow:before {color: black;}#sk-container-id-4 div.sk-toggleable__content {max-height: 0;max-width: 0;overflow: hidden;text-align: left;background-color: #f0f8ff;}#sk-container-id-4 div.sk-toggleable__content pre {margin: 0.2em;color: black;border-radius: 0.25em;background-color: #f0f8ff;}#sk-container-id-4 input.sk-toggleable__control:checked~div.sk-toggleable__content {max-height: 200px;max-width: 100%;overflow: auto;}#sk-container-id-4 input.sk-toggleable__control:checked~label.sk-toggleable__label-arrow:before {content: \"▾\";}#sk-container-id-4 div.sk-estimator input.sk-toggleable__control:checked~label.sk-toggleable__label {background-color: #d4ebff;}#sk-container-id-4 div.sk-label input.sk-toggleable__control:checked~label.sk-toggleable__label {background-color: #d4ebff;}#sk-container-id-4 input.sk-hidden--visually {border: 0;clip: rect(1px 1px 1px 1px);clip: rect(1px, 1px, 1px, 1px);height: 1px;margin: -1px;overflow: hidden;padding: 0;position: absolute;width: 1px;}#sk-container-id-4 div.sk-estimator {font-family: monospace;background-color: #f0f8ff;border: 1px dotted black;border-radius: 0.25em;box-sizing: border-box;margin-bottom: 0.5em;}#sk-container-id-4 div.sk-estimator:hover {background-color: #d4ebff;}#sk-container-id-4 div.sk-parallel-item::after {content: \"\";width: 100%;border-bottom: 1px solid gray;flex-grow: 1;}#sk-container-id-4 div.sk-label:hover label.sk-toggleable__label {background-color: #d4ebff;}#sk-container-id-4 div.sk-serial::before {content: \"\";position: absolute;border-left: 1px solid gray;box-sizing: border-box;top: 0;bottom: 0;left: 50%;z-index: 0;}#sk-container-id-4 div.sk-serial {display: flex;flex-direction: column;align-items: center;background-color: white;padding-right: 0.2em;padding-left: 0.2em;position: relative;}#sk-container-id-4 div.sk-item {position: relative;z-index: 1;}#sk-container-id-4 div.sk-parallel {display: flex;align-items: stretch;justify-content: center;background-color: white;position: relative;}#sk-container-id-4 div.sk-item::before, #sk-container-id-4 div.sk-parallel-item::before {content: \"\";position: absolute;border-left: 1px solid gray;box-sizing: border-box;top: 0;bottom: 0;left: 50%;z-index: -1;}#sk-container-id-4 div.sk-parallel-item {display: flex;flex-direction: column;z-index: 1;position: relative;background-color: white;}#sk-container-id-4 div.sk-parallel-item:first-child::after {align-self: flex-end;width: 50%;}#sk-container-id-4 div.sk-parallel-item:last-child::after {align-self: flex-start;width: 50%;}#sk-container-id-4 div.sk-parallel-item:only-child::after {width: 0;}#sk-container-id-4 div.sk-dashed-wrapped {border: 1px dashed gray;margin: 0 0.4em 0.5em 0.4em;box-sizing: border-box;padding-bottom: 0.4em;background-color: white;}#sk-container-id-4 div.sk-label label {font-family: monospace;font-weight: bold;display: inline-block;line-height: 1.2em;}#sk-container-id-4 div.sk-label-container {text-align: center;}#sk-container-id-4 div.sk-container {/* jupyter's `normalize.less` sets `[hidden] { display: none; }` but bootstrap.min.css set `[hidden] { display: none !important; }` so we also need the `!important` here to be able to override the default hidden behavior on the sphinx rendered scikit-learn.org. See: https://github.com/scikit-learn/scikit-learn/issues/21755 */display: inline-block !important;position: relative;}#sk-container-id-4 div.sk-text-repr-fallback {display: none;}</style><div id=\"sk-container-id-4\" class=\"sk-top-container\"><div class=\"sk-text-repr-fallback\"><pre>RandomForestClassifier(n_estimators=30, random_state=123)</pre><b>In a Jupyter environment, please rerun this cell to show the HTML representation or trust the notebook. <br />On GitHub, the HTML representation is unable to render, please try loading this page with nbviewer.org.</b></div><div class=\"sk-container\" hidden><div class=\"sk-item\"><div class=\"sk-estimator sk-toggleable\"><input class=\"sk-toggleable__control sk-hidden--visually\" id=\"sk-estimator-id-4\" type=\"checkbox\" checked><label for=\"sk-estimator-id-4\" class=\"sk-toggleable__label sk-toggleable__label-arrow\">RandomForestClassifier</label><div class=\"sk-toggleable__content\"><pre>RandomForestClassifier(n_estimators=30, random_state=123)</pre></div></div></div></div></div>"
      ],
      "text/plain": [
       "RandomForestClassifier(n_estimators=30, random_state=123)"
      ]
     },
     "execution_count": 34,
     "metadata": {},
     "output_type": "execute_result"
    }
   ],
   "source": [
    "RT = RandomForestClassifier(n_estimators=30, random_state=123)\n",
    "RT.fit(data_X_train, data_y_train)"
   ]
  },
  {
   "cell_type": "code",
   "execution_count": 35,
   "id": "eebe1385",
   "metadata": {},
   "outputs": [
    {
     "data": {
      "text/plain": [
       "0.9851485148514851"
      ]
     },
     "execution_count": 35,
     "metadata": {},
     "output_type": "execute_result"
    }
   ],
   "source": [
    "accuracy_score(data_y_test, RT.predict(data_X_test))"
   ]
  },
  {
   "cell_type": "code",
   "execution_count": 36,
   "id": "9c6c0819",
   "metadata": {},
   "outputs": [
    {
     "data": {
      "text/plain": [
       "0.9653465346534653"
      ]
     },
     "execution_count": 36,
     "metadata": {},
     "output_type": "execute_result"
    }
   ],
   "source": [
    "\n",
    "f1_score(data_y_test, data_y_pred_1, average='micro')"
   ]
  },
  {
   "cell_type": "code",
   "execution_count": 37,
   "id": "c695426a",
   "metadata": {},
   "outputs": [
    {
     "data": {
      "text/plain": [
       "0.7258117236870778"
      ]
     },
     "execution_count": 37,
     "metadata": {},
     "output_type": "execute_result"
    }
   ],
   "source": [
    "f1_score(data_y_test, data_y_pred_1, average='macro')"
   ]
  },
  {
   "cell_type": "code",
   "execution_count": 38,
   "id": "8f0feaec",
   "metadata": {},
   "outputs": [
    {
     "data": {
      "text/plain": [
       "0.9506482354489535"
      ]
     },
     "execution_count": 38,
     "metadata": {},
     "output_type": "execute_result"
    }
   ],
   "source": [
    "f1_score(data_y_test, data_y_pred_1, average='weighted')"
   ]
  },
  {
   "cell_type": "markdown",
   "id": "ac13cad0",
   "metadata": {},
   "source": [
    "## Выводы"
   ]
  },
  {
   "cell_type": "markdown",
   "id": "77e10522",
   "metadata": {},
   "source": [
    "При использовании логистической регрессии наилучшую точность (0.980) показала модель с параметром max_iter=10000. При использовании метода \"Случайный лес\" получилось добиться более высокого показателя точности (0.990), хотя и разница незначительная, но предпочтительней использовать второй метод."
   ]
  }
 ],
 "metadata": {
  "kernelspec": {
   "display_name": "Python 3 (ipykernel)",
   "language": "python",
   "name": "python3"
  },
  "language_info": {
   "codemirror_mode": {
    "name": "ipython",
    "version": 3
   },
   "file_extension": ".py",
   "mimetype": "text/x-python",
   "name": "python",
   "nbconvert_exporter": "python",
   "pygments_lexer": "ipython3",
   "version": "3.9.7"
  }
 },
 "nbformat": 4,
 "nbformat_minor": 5
}
