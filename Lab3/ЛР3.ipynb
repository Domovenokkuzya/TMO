{
 "cells": [
  {
   "cell_type": "markdown",
   "id": "c99b7243",
   "metadata": {},
   "source": [
    "# Лабораторная работа 3"
   ]
  },
  {
   "cell_type": "markdown",
   "id": "bbe2a9be",
   "metadata": {},
   "source": [
    "## Подготовка обучающей и тестовой выборки, кросс-валидация и подбор гиперпараметров на примере метода ближайших соседей"
   ]
  },
  {
   "cell_type": "code",
   "execution_count": 1,
   "id": "fe2d10f3",
   "metadata": {},
   "outputs": [],
   "source": [
    "import pandas as pd\n",
    "from sklearn.model_selection import train_test_split\n",
    "import numpy as np\n",
    "import matplotlib.pyplot as plt\n",
    "from sklearn.metrics import mean_squared_error, r2_score \n",
    "import seaborn as sns\n",
    "from sklearn.neighbors import KNeighborsRegressor\n",
    "from sklearn.model_selection import GridSearchCV\n",
    "from sklearn.model_selection import KFold, RepeatedKFold"
   ]
  },
  {
   "cell_type": "code",
   "execution_count": 27,
   "id": "2de01665",
   "metadata": {},
   "outputs": [],
   "source": [
    "df = pd.read_csv(\"employee_data.csv\")\n",
    "df = df.dropna()"
   ]
  },
  {
   "cell_type": "code",
   "execution_count": 28,
   "id": "d0864f19",
   "metadata": {},
   "outputs": [
    {
     "data": {
      "text/html": [
       "<div>\n",
       "<style scoped>\n",
       "    .dataframe tbody tr th:only-of-type {\n",
       "        vertical-align: middle;\n",
       "    }\n",
       "\n",
       "    .dataframe tbody tr th {\n",
       "        vertical-align: top;\n",
       "    }\n",
       "\n",
       "    .dataframe thead th {\n",
       "        text-align: right;\n",
       "    }\n",
       "</style>\n",
       "<table border=\"1\" class=\"dataframe\">\n",
       "  <thead>\n",
       "    <tr style=\"text-align: right;\">\n",
       "      <th></th>\n",
       "      <th>Unnamed: 0</th>\n",
       "      <th>id</th>\n",
       "      <th>groups</th>\n",
       "      <th>age</th>\n",
       "      <th>healthy_eating</th>\n",
       "      <th>active_lifestyle</th>\n",
       "      <th>salary</th>\n",
       "    </tr>\n",
       "  </thead>\n",
       "  <tbody>\n",
       "    <tr>\n",
       "      <th>0</th>\n",
       "      <td>0</td>\n",
       "      <td>0</td>\n",
       "      <td>A</td>\n",
       "      <td>36</td>\n",
       "      <td>5</td>\n",
       "      <td>5</td>\n",
       "      <td>2297</td>\n",
       "    </tr>\n",
       "    <tr>\n",
       "      <th>1</th>\n",
       "      <td>1</td>\n",
       "      <td>1</td>\n",
       "      <td>A</td>\n",
       "      <td>55</td>\n",
       "      <td>3</td>\n",
       "      <td>5</td>\n",
       "      <td>1134</td>\n",
       "    </tr>\n",
       "    <tr>\n",
       "      <th>2</th>\n",
       "      <td>2</td>\n",
       "      <td>2</td>\n",
       "      <td>A</td>\n",
       "      <td>61</td>\n",
       "      <td>8</td>\n",
       "      <td>1</td>\n",
       "      <td>4969</td>\n",
       "    </tr>\n",
       "    <tr>\n",
       "      <th>3</th>\n",
       "      <td>3</td>\n",
       "      <td>3</td>\n",
       "      <td>O</td>\n",
       "      <td>29</td>\n",
       "      <td>3</td>\n",
       "      <td>6</td>\n",
       "      <td>902</td>\n",
       "    </tr>\n",
       "    <tr>\n",
       "      <th>4</th>\n",
       "      <td>4</td>\n",
       "      <td>4</td>\n",
       "      <td>O</td>\n",
       "      <td>34</td>\n",
       "      <td>6</td>\n",
       "      <td>2</td>\n",
       "      <td>3574</td>\n",
       "    </tr>\n",
       "  </tbody>\n",
       "</table>\n",
       "</div>"
      ],
      "text/plain": [
       "   Unnamed: 0  id groups  age  healthy_eating  active_lifestyle  salary\n",
       "0           0   0      A   36               5                 5    2297\n",
       "1           1   1      A   55               3                 5    1134\n",
       "2           2   2      A   61               8                 1    4969\n",
       "3           3   3      O   29               3                 6     902\n",
       "4           4   4      O   34               6                 2    3574"
      ]
     },
     "execution_count": 28,
     "metadata": {},
     "output_type": "execute_result"
    }
   ],
   "source": [
    "df = df.dropna()\n",
    "df.head()"
   ]
  },
  {
   "cell_type": "code",
   "execution_count": 29,
   "id": "6d077ff2",
   "metadata": {},
   "outputs": [
    {
     "data": {
      "text/plain": [
       "(1000, 7)"
      ]
     },
     "execution_count": 29,
     "metadata": {},
     "output_type": "execute_result"
    }
   ],
   "source": [
    "df.shape"
   ]
  },
  {
   "cell_type": "markdown",
   "id": "0bb01484",
   "metadata": {},
   "source": [
    "### Обучающая и тестовая выборка"
   ]
  },
  {
   "cell_type": "code",
   "execution_count": 34,
   "id": "92ccf618",
   "metadata": {},
   "outputs": [
    {
     "data": {
      "text/plain": [
       "0      5\n",
       "1      5\n",
       "2      1\n",
       "3      6\n",
       "4      2\n",
       "      ..\n",
       "995    7\n",
       "996    2\n",
       "997    7\n",
       "998    7\n",
       "999    9\n",
       "Name: active_lifestyle, Length: 1000, dtype: int64"
      ]
     },
     "execution_count": 34,
     "metadata": {},
     "output_type": "execute_result"
    }
   ],
   "source": [
    "df[\"active_lifestyle\"]"
   ]
  },
  {
   "cell_type": "code",
   "execution_count": 35,
   "id": "8fa1f9d1",
   "metadata": {},
   "outputs": [
    {
     "data": {
      "text/plain": [
       "0      5\n",
       "1      3\n",
       "2      8\n",
       "3      3\n",
       "4      6\n",
       "      ..\n",
       "995    7\n",
       "996    1\n",
       "997    9\n",
       "998    6\n",
       "999    4\n",
       "Name: healthy_eating, Length: 1000, dtype: int64"
      ]
     },
     "execution_count": 35,
     "metadata": {},
     "output_type": "execute_result"
    }
   ],
   "source": [
    "df[\"healthy_eating\"]"
   ]
  },
  {
   "cell_type": "code",
   "execution_count": 36,
   "id": "a7851764",
   "metadata": {},
   "outputs": [
    {
     "data": {
      "text/html": [
       "<div>\n",
       "<style scoped>\n",
       "    .dataframe tbody tr th:only-of-type {\n",
       "        vertical-align: middle;\n",
       "    }\n",
       "\n",
       "    .dataframe tbody tr th {\n",
       "        vertical-align: top;\n",
       "    }\n",
       "\n",
       "    .dataframe thead th {\n",
       "        text-align: right;\n",
       "    }\n",
       "</style>\n",
       "<table border=\"1\" class=\"dataframe\">\n",
       "  <thead>\n",
       "    <tr style=\"text-align: right;\">\n",
       "      <th></th>\n",
       "      <th>al</th>\n",
       "      <th>he</th>\n",
       "      <th>salary</th>\n",
       "    </tr>\n",
       "  </thead>\n",
       "  <tbody>\n",
       "    <tr>\n",
       "      <th>0</th>\n",
       "      <td>5</td>\n",
       "      <td>5</td>\n",
       "      <td>2297</td>\n",
       "    </tr>\n",
       "    <tr>\n",
       "      <th>1</th>\n",
       "      <td>5</td>\n",
       "      <td>3</td>\n",
       "      <td>1134</td>\n",
       "    </tr>\n",
       "    <tr>\n",
       "      <th>2</th>\n",
       "      <td>1</td>\n",
       "      <td>8</td>\n",
       "      <td>4969</td>\n",
       "    </tr>\n",
       "    <tr>\n",
       "      <th>3</th>\n",
       "      <td>6</td>\n",
       "      <td>3</td>\n",
       "      <td>902</td>\n",
       "    </tr>\n",
       "    <tr>\n",
       "      <th>4</th>\n",
       "      <td>2</td>\n",
       "      <td>6</td>\n",
       "      <td>3574</td>\n",
       "    </tr>\n",
       "    <tr>\n",
       "      <th>...</th>\n",
       "      <td>...</td>\n",
       "      <td>...</td>\n",
       "      <td>...</td>\n",
       "    </tr>\n",
       "    <tr>\n",
       "      <th>995</th>\n",
       "      <td>7</td>\n",
       "      <td>7</td>\n",
       "      <td>2996</td>\n",
       "    </tr>\n",
       "    <tr>\n",
       "      <th>996</th>\n",
       "      <td>2</td>\n",
       "      <td>1</td>\n",
       "      <td>667</td>\n",
       "    </tr>\n",
       "    <tr>\n",
       "      <th>997</th>\n",
       "      <td>7</td>\n",
       "      <td>9</td>\n",
       "      <td>4158</td>\n",
       "    </tr>\n",
       "    <tr>\n",
       "      <th>998</th>\n",
       "      <td>7</td>\n",
       "      <td>6</td>\n",
       "      <td>2414</td>\n",
       "    </tr>\n",
       "    <tr>\n",
       "      <th>999</th>\n",
       "      <td>9</td>\n",
       "      <td>4</td>\n",
       "      <td>788</td>\n",
       "    </tr>\n",
       "  </tbody>\n",
       "</table>\n",
       "<p>1000 rows × 3 columns</p>\n",
       "</div>"
      ],
      "text/plain": [
       "     al  he  salary\n",
       "0     5   5    2297\n",
       "1     5   3    1134\n",
       "2     1   8    4969\n",
       "3     6   3     902\n",
       "4     2   6    3574\n",
       "..   ..  ..     ...\n",
       "995   7   7    2996\n",
       "996   2   1     667\n",
       "997   7   9    4158\n",
       "998   7   6    2414\n",
       "999   9   4     788\n",
       "\n",
       "[1000 rows x 3 columns]"
      ]
     },
     "execution_count": 36,
     "metadata": {},
     "output_type": "execute_result"
    }
   ],
   "source": [
    "myData = pd.DataFrame({\"al\": df[\"active_lifestyle\"], \"he\": df[\"healthy_eating\"], \"salary\": df[\"salary\"]})\n",
    "myData"
   ]
  },
  {
   "cell_type": "code",
   "execution_count": 37,
   "id": "c98e1590",
   "metadata": {},
   "outputs": [],
   "source": [
    "#С помощью метода train_test_split разделим выборку на обучающую и тестовую\n",
    "\n",
    "data= np.array([[myData[\"al\"].iloc[i], myData[\"he\"].iloc[i]] for i in range(myData.shape[0])])\n",
    "target= np.array(myData[\"salary\"])\n",
    "trainX, testX, trainY, testY = train_test_split(data, target, train_size=0.9, random_state=1)"
   ]
  },
  {
   "cell_type": "code",
   "execution_count": 38,
   "id": "41525db0",
   "metadata": {},
   "outputs": [
    {
     "data": {
      "text/plain": [
       "array([[2, 4],\n",
       "       [8, 8],\n",
       "       [7, 5],\n",
       "       [5, 5],\n",
       "       [1, 4],\n",
       "       [8, 7],\n",
       "       [9, 5],\n",
       "       [6, 5],\n",
       "       [8, 4],\n",
       "       [9, 6],\n",
       "       [7, 6],\n",
       "       [5, 6],\n",
       "       [6, 4],\n",
       "       [3, 5],\n",
       "       [8, 2],\n",
       "       [8, 0],\n",
       "       [7, 6],\n",
       "       [6, 4],\n",
       "       [6, 4],\n",
       "       [2, 4],\n",
       "       [6, 5],\n",
       "       [6, 7],\n",
       "       [6, 5],\n",
       "       [6, 7],\n",
       "       [4, 6],\n",
       "       [9, 8],\n",
       "       [5, 6],\n",
       "       [5, 1],\n",
       "       [3, 8],\n",
       "       [8, 7],\n",
       "       [5, 2],\n",
       "       [6, 5],\n",
       "       [7, 5],\n",
       "       [4, 7],\n",
       "       [5, 7],\n",
       "       [3, 9],\n",
       "       [8, 6],\n",
       "       [5, 2],\n",
       "       [7, 2],\n",
       "       [0, 6],\n",
       "       [4, 4],\n",
       "       [8, 4],\n",
       "       [9, 1],\n",
       "       [7, 5],\n",
       "       [8, 5],\n",
       "       [6, 4],\n",
       "       [5, 7],\n",
       "       [3, 5],\n",
       "       [3, 6],\n",
       "       [7, 7],\n",
       "       [7, 6],\n",
       "       [7, 5],\n",
       "       [4, 2],\n",
       "       [4, 2],\n",
       "       [6, 5],\n",
       "       [8, 5],\n",
       "       [6, 7],\n",
       "       [7, 7],\n",
       "       [4, 2],\n",
       "       [7, 3],\n",
       "       [5, 4],\n",
       "       [9, 2],\n",
       "       [3, 7],\n",
       "       [8, 8],\n",
       "       [5, 8],\n",
       "       [6, 2],\n",
       "       [7, 2],\n",
       "       [6, 3],\n",
       "       [6, 3],\n",
       "       [8, 4],\n",
       "       [4, 2],\n",
       "       [6, 8],\n",
       "       [3, 3],\n",
       "       [6, 5],\n",
       "       [1, 2],\n",
       "       [6, 6],\n",
       "       [5, 7],\n",
       "       [7, 4],\n",
       "       [5, 0],\n",
       "       [9, 5],\n",
       "       [3, 7],\n",
       "       [4, 9],\n",
       "       [7, 3],\n",
       "       [9, 6],\n",
       "       [7, 7],\n",
       "       [3, 6],\n",
       "       [7, 6],\n",
       "       [6, 5],\n",
       "       [5, 5],\n",
       "       [7, 3],\n",
       "       [7, 4],\n",
       "       [6, 4],\n",
       "       [7, 3],\n",
       "       [2, 6],\n",
       "       [8, 5],\n",
       "       [7, 8],\n",
       "       [6, 6],\n",
       "       [6, 7],\n",
       "       [2, 6],\n",
       "       [7, 4]], dtype=int64)"
      ]
     },
     "execution_count": 38,
     "metadata": {},
     "output_type": "execute_result"
    }
   ],
   "source": [
    "testX"
   ]
  },
  {
   "cell_type": "code",
   "execution_count": 39,
   "id": "91c5d807",
   "metadata": {},
   "outputs": [],
   "source": [
    "from sklearn.neighbors import KNeighborsRegressor\n",
    "neigh = KNeighborsRegressor(n_neighbors=3)\n",
    "neigh.fit(trainX, trainY)\n",
    "pred3_1 = neigh.predict(testX)\n",
    "pred3_2 = neigh.predict(trainX)\n",
    "pred3_1 = [i for  i in pred3_1]\n",
    "pred3_2 = [i for  i in pred3_2]"
   ]
  },
  {
   "cell_type": "code",
   "execution_count": 40,
   "id": "16ee4b62",
   "metadata": {},
   "outputs": [],
   "source": [
    "neigh = KNeighborsRegressor(n_neighbors=10)\n",
    "neigh.fit(trainX, trainY)\n",
    "pred10_1 = neigh.predict(testX)\n",
    "pred10_2 = neigh.predict(trainX)\n",
    "pred10_1 = [i for  i in pred10_1]\n",
    "pred10_2 = [i for  i in pred10_2]"
   ]
  },
  {
   "cell_type": "code",
   "execution_count": 41,
   "id": "ea17686a",
   "metadata": {},
   "outputs": [
    {
     "name": "stdout",
     "output_type": "stream",
     "text": [
      "Истинные значения:\n",
      "2411\n",
      "3345\n",
      "1833\n",
      "2297\n",
      "2643\n",
      "2764\n",
      "1369\n",
      "2065\n",
      "1020\n",
      "1950\n",
      "2414\n",
      "2878\n",
      "1484\n",
      "2761\n",
      "1243\n",
      "2406\n",
      "2414\n",
      "1484\n",
      "1484\n",
      "2411\n",
      "2065\n",
      "3228\n",
      "2065\n",
      "3228\n",
      "3110\n",
      "3113\n",
      "2878\n",
      "1128\n",
      "4505\n",
      "2764\n",
      "553\n",
      "2065\n",
      "1833\n",
      "3691\n",
      "3460\n",
      "5086\n",
      "2182\n",
      "553\n",
      "1011\n",
      "4038\n",
      "1948\n",
      "1020\n",
      "2056\n",
      "1833\n",
      "1601\n",
      "1484\n",
      "3460\n",
      "2761\n",
      "3342\n",
      "2996\n",
      "2414\n",
      "1833\n",
      "785\n",
      "785\n",
      "2065\n",
      "1601\n",
      "3228\n",
      "2996\n",
      "785\n",
      "670\n",
      "1716\n",
      "1475\n",
      "3923\n",
      "3345\n",
      "4041\n",
      "779\n",
      "1011\n",
      "902\n",
      "902\n",
      "1020\n",
      "785\n",
      "3809\n",
      "1598\n",
      "2065\n",
      "1481\n",
      "2646\n",
      "3460\n",
      "1252\n",
      "1710\n",
      "1369\n",
      "3923\n",
      "4854\n",
      "670\n",
      "1950\n",
      "2996\n",
      "3342\n",
      "2414\n",
      "2065\n",
      "2297\n",
      "670\n",
      "1252\n",
      "1484\n",
      "670\n",
      "3574\n",
      "1601\n",
      "3577\n",
      "2646\n",
      "3228\n",
      "3574\n",
      "1252\n"
     ]
    }
   ],
   "source": [
    "print(\"Истинные значения:\")\n",
    "for i in testY:\n",
    "    print(i)"
   ]
  },
  {
   "cell_type": "code",
   "execution_count": 42,
   "id": "7dbf2d6c",
   "metadata": {},
   "outputs": [
    {
     "name": "stdout",
     "output_type": "stream",
     "text": [
      "Предсказания с гиперпараметром 3:\n",
      "2411.0\n",
      "3345.0\n",
      "1833.0\n",
      "2297.0\n",
      "2643.0\n",
      "2764.0\n",
      "1369.0\n",
      "2065.0\n",
      "1020.0\n",
      "1950.0\n",
      "2414.0\n",
      "2878.0\n",
      "1484.0\n",
      "2761.0\n",
      "1243.0\n",
      "2251.3333333333335\n",
      "2414.0\n",
      "1484.0\n",
      "1484.0\n",
      "2411.0\n",
      "2065.0\n",
      "3228.0\n",
      "2065.0\n",
      "3228.0\n",
      "3110.0\n",
      "3113.0\n",
      "2878.0\n",
      "1128.0\n",
      "4505.0\n",
      "2764.0\n",
      "553.0\n",
      "2065.0\n",
      "1833.0\n",
      "3691.0\n",
      "3460.0\n",
      "4815.0\n",
      "2182.0\n",
      "553.0\n",
      "1011.0\n",
      "4038.0\n",
      "1948.0\n",
      "1020.0\n",
      "1978.6666666666667\n",
      "1833.0\n",
      "1601.0\n",
      "1484.0\n",
      "3460.0\n",
      "2761.0\n",
      "3342.0\n",
      "2996.0\n",
      "2414.0\n",
      "1833.0\n",
      "785.0\n",
      "785.0\n",
      "2065.0\n",
      "1601.0\n",
      "3228.0\n",
      "2996.0\n",
      "785.0\n",
      "670.0\n",
      "1716.0\n",
      "1475.0\n",
      "3923.0\n",
      "3345.0\n",
      "4041.0\n",
      "779.0\n",
      "1011.0\n",
      "902.0\n",
      "902.0\n",
      "1020.0\n",
      "785.0\n",
      "3809.0\n",
      "1598.0\n",
      "2065.0\n",
      "1520.0\n",
      "2646.0\n",
      "3460.0\n",
      "1252.0\n",
      "1516.0\n",
      "1369.0\n",
      "3923.0\n",
      "5125.0\n",
      "670.0\n",
      "1950.0\n",
      "2996.0\n",
      "3342.0\n",
      "2414.0\n",
      "2065.0\n",
      "2297.0\n",
      "670.0\n",
      "1252.0\n",
      "1484.0\n",
      "670.0\n",
      "3574.0\n",
      "1601.0\n",
      "3577.0\n",
      "2646.0\n",
      "3228.0\n",
      "3574.0\n",
      "1252.0\n"
     ]
    }
   ],
   "source": [
    "print(\"Предсказания с гиперпараметром 3:\")\n",
    "for i in pred3_1:\n",
    "    print(i)"
   ]
  },
  {
   "cell_type": "code",
   "execution_count": 43,
   "id": "e0283c75",
   "metadata": {},
   "outputs": [
    {
     "name": "stdout",
     "output_type": "stream",
     "text": [
      "Предсказания с гиперпараметром 10:\n",
      "2573.8\n",
      "3345.0\n",
      "1833.0\n",
      "2297.0\n",
      "2643.0\n",
      "2764.0\n",
      "1369.0\n",
      "2065.0\n",
      "1020.0\n",
      "1950.0\n",
      "2414.0\n",
      "2878.0\n",
      "1484.0\n",
      "2761.0\n",
      "1219.8\n",
      "1987.2\n",
      "2414.0\n",
      "1484.0\n",
      "1484.0\n",
      "2573.8\n",
      "2065.0\n",
      "3228.0\n",
      "2065.0\n",
      "3228.0\n",
      "3110.0\n",
      "3020.0\n",
      "2878.0\n",
      "979.4\n",
      "4155.8\n",
      "2764.0\n",
      "553.0\n",
      "2065.0\n",
      "1833.0\n",
      "3691.0\n",
      "3460.0\n",
      "4958.3\n",
      "2182.0\n",
      "553.0\n",
      "907.3\n",
      "3608.3\n",
      "1948.0\n",
      "1020.0\n",
      "1719.1\n",
      "1833.0\n",
      "1601.0\n",
      "1484.0\n",
      "3460.0\n",
      "2761.0\n",
      "3283.9\n",
      "2996.0\n",
      "2414.0\n",
      "1833.0\n",
      "808.2\n",
      "808.2\n",
      "2065.0\n",
      "1601.0\n",
      "3228.0\n",
      "2996.0\n",
      "808.2\n",
      "670.0\n",
      "1716.0\n",
      "1428.6\n",
      "3923.0\n",
      "3345.0\n",
      "4041.0\n",
      "779.0\n",
      "907.3\n",
      "902.0\n",
      "902.0\n",
      "1020.0\n",
      "808.2\n",
      "3809.0\n",
      "1598.0\n",
      "2065.0\n",
      "1434.5\n",
      "2646.0\n",
      "3460.0\n",
      "1252.0\n",
      "1384.4\n",
      "1369.0\n",
      "3923.0\n",
      "4830.8\n",
      "670.0\n",
      "1950.0\n",
      "2996.0\n",
      "3283.9\n",
      "2414.0\n",
      "2065.0\n",
      "2297.0\n",
      "670.0\n",
      "1252.0\n",
      "1484.0\n",
      "670.0\n",
      "3550.8\n",
      "1601.0\n",
      "3623.4\n",
      "2646.0\n",
      "3228.0\n",
      "3550.8\n",
      "1252.0\n"
     ]
    }
   ],
   "source": [
    "print(\"Предсказания с гиперпараметром 10:\")\n",
    "for i in pred10_1:\n",
    "    print(i)"
   ]
  },
  {
   "cell_type": "markdown",
   "id": "754bcfc3",
   "metadata": {},
   "source": [
    "# Проверка качества модели"
   ]
  },
  {
   "cell_type": "markdown",
   "id": "b145bef2",
   "metadata": {},
   "source": [
    "### Метрика Root mean squared error (RMSE)"
   ]
  },
  {
   "cell_type": "code",
   "execution_count": 44,
   "id": "f4d3d9b8",
   "metadata": {},
   "outputs": [
    {
     "name": "stdout",
     "output_type": "stream",
     "text": [
      "Для К=3:\t 40.5946888820705\t46.46947624217667\n"
     ]
    }
   ],
   "source": [
    "myrmse3_1 = mean_squared_error(testY, pred3_1, squared=False)\n",
    "myrmse3_2 = mean_squared_error(trainY, pred3_2, squared=False)\n",
    "print(\"Для К=3:\\t {}\\t{}\".format(myrmse3_2, myrmse3_1))"
   ]
  },
  {
   "cell_type": "code",
   "execution_count": 45,
   "id": "9e3adbcd",
   "metadata": {},
   "outputs": [
    {
     "name": "stdout",
     "output_type": "stream",
     "text": [
      "Для К=3:\t 97.30773932906536\t91.68270065830302\n"
     ]
    }
   ],
   "source": [
    "myrmse10_1 = mean_squared_error(testY, pred10_1, squared=False)\n",
    "myrmse10_2 = mean_squared_error(trainY, pred10_2, squared=False)\n",
    "print(\"Для К=3:\\t {}\\t{}\".format(myrmse10_2, myrmse10_1))"
   ]
  },
  {
   "cell_type": "code",
   "execution_count": 46,
   "id": "5c4f47f2",
   "metadata": {},
   "outputs": [],
   "source": [
    "rmse = []\n",
    "rmse.append(myrmse10_2)\n",
    "rmse.append(myrmse10_1)"
   ]
  },
  {
   "cell_type": "markdown",
   "id": "61176df0",
   "metadata": {},
   "source": [
    "### Коэффициент детерминации"
   ]
  },
  {
   "cell_type": "code",
   "execution_count": 47,
   "id": "6f3f4757",
   "metadata": {},
   "outputs": [
    {
     "name": "stdout",
     "output_type": "stream",
     "text": [
      "Для К=3:\t 0.9980796508817324\t0.9985918271940087\n"
     ]
    }
   ],
   "source": [
    "r2_1 = r2_score(testY,pred3_1)\n",
    "r2_2 = r2_score(trainY,pred3_2)\n",
    "print(\"Для К=3:\\t {}\\t{}\".format(r2_1, r2_2))"
   ]
  },
  {
   "cell_type": "code",
   "execution_count": 48,
   "id": "efa0c782",
   "metadata": {},
   "outputs": [
    {
     "name": "stdout",
     "output_type": "stream",
     "text": [
      "Для К=10:\t 0.9925248582853\t0.9919088121403481\n"
     ]
    }
   ],
   "source": [
    "r2_1 = r2_score(testY,pred10_1)\n",
    "r2_2 = r2_score(trainY,pred10_2)\n",
    "print(\"Для К=10:\\t {}\\t{}\".format(r2_1, r2_2))"
   ]
  },
  {
   "cell_type": "markdown",
   "id": "c9764ae4",
   "metadata": {},
   "source": [
    "## Подбор гиперпараметра с помощью кросс-валидации"
   ]
  },
  {
   "cell_type": "code",
   "execution_count": 49,
   "id": "82a45072",
   "metadata": {},
   "outputs": [
    {
     "data": {
      "text/plain": [
       "GridSearchCV(cv=KFold(n_splits=10, random_state=None, shuffle=False),\n",
       "             estimator=KNeighborsRegressor(),\n",
       "             param_grid=[{'n_neighbors': array([ 1,  2,  3,  4,  5,  6,  7,  8,  9, 10, 11, 12, 13, 14, 15, 16, 17,\n",
       "       18, 19, 20, 21, 22, 23])}],\n",
       "             scoring='neg_root_mean_squared_error')"
      ]
     },
     "execution_count": 49,
     "metadata": {},
     "output_type": "execute_result"
    }
   ],
   "source": [
    "kf = KFold(n_splits=10)\n",
    "r = np.array(range(1,24))\n",
    "params = [{\"n_neighbors\": r}]\n",
    "gs= GridSearchCV(KNeighborsRegressor(), params, cv=kf, scoring=\"neg_root_mean_squared_error\")\n",
    "gs.fit(trainX, trainY)"
   ]
  },
  {
   "cell_type": "code",
   "execution_count": 50,
   "id": "262015a8",
   "metadata": {},
   "outputs": [
    {
     "data": {
      "text/plain": [
       "Text(0.5, 1.0, 'Гиперпараметр при KFold()')"
      ]
     },
     "execution_count": 50,
     "metadata": {},
     "output_type": "execute_result"
    },
    {
     "data": {
      "image/png": "[encoded data removed]",
      "text/plain": [
       "<Figure size 432x288 with 1 Axes>"
      ]
     },
     "metadata": {
      "needs_background": "light"
     },
     "output_type": "display_data"
    }
   ],
   "source": [
    "plt.plot(r, gs.cv_results_['mean_test_score'])\n",
    "plt.title(\"Гиперпараметр при KFold()\")"
   ]
  },
  {
   "cell_type": "code",
   "execution_count": 51,
   "id": "86e9fee4",
   "metadata": {},
   "outputs": [],
   "source": [
    "gs.best_estimator_.fit(trainX, trainY)\n",
    "predGs1 = gs.best_estimator_.predict(testX)\n",
    "predGs2 = gs.best_estimator_.predict(trainX)"
   ]
  },
  {
   "cell_type": "code",
   "execution_count": 52,
   "id": "91086edc",
   "metadata": {},
   "outputs": [
    {
     "data": {
      "text/plain": [
       "(23.2, 0.0)"
      ]
     },
     "execution_count": 52,
     "metadata": {},
     "output_type": "execute_result"
    }
   ],
   "source": [
    "rmse.append(mean_squared_error(testY, predGs1, squared=False))\n",
    "rmse.append(mean_squared_error(trainY, predGs2, squared=False))\n",
    "(mean_squared_error(testY, predGs1, squared=False), mean_squared_error(trainY, predGs2, squared=False))"
   ]
  },
  {
   "cell_type": "code",
   "execution_count": 53,
   "id": "06225d0a",
   "metadata": {},
   "outputs": [
    {
     "data": {
      "text/plain": [
       "GridSearchCV(cv=RepeatedKFold(n_repeats=3, n_splits=10, random_state=None),\n",
       "             estimator=KNeighborsRegressor(),\n",
       "             param_grid=[{'n_neighbors': array([ 1,  2,  3,  4,  5,  6,  7,  8,  9, 10, 11, 12, 13, 14, 15, 16, 17,\n",
       "       18, 19, 20, 21, 22, 23])}],\n",
       "             scoring='neg_root_mean_squared_error')"
      ]
     },
     "execution_count": 53,
     "metadata": {},
     "output_type": "execute_result"
    }
   ],
   "source": [
    "kf = RepeatedKFold(n_splits=10, n_repeats = 3)\n",
    "r = np.array(range(1,24))\n",
    "params = [{\"n_neighbors\": r}]\n",
    "gs2= GridSearchCV(KNeighborsRegressor(), params, cv=kf, scoring=\"neg_root_mean_squared_error\")\n",
    "gs2.fit(trainX, trainY)"
   ]
  },
  {
   "cell_type": "code",
   "execution_count": 54,
   "id": "f648ad6f",
   "metadata": {},
   "outputs": [
    {
     "data": {
      "text/plain": [
       "Text(0.5, 1.0, 'Гиперпараметр при RepeatedKFold()')"
      ]
     },
     "execution_count": 54,
     "metadata": {},
     "output_type": "execute_result"
    },
    {
     "data": {
      "image/png": "[encoded data removed]",
      "text/plain": [
       "<Figure size 432x288 with 1 Axes>"
      ]
     },
     "metadata": {
      "needs_background": "light"
     },
     "output_type": "display_data"
    }
   ],
   "source": [
    "plt.plot(r, gs2.cv_results_['mean_test_score'])\n",
    "plt.title(\"Гиперпараметр при RepeatedKFold()\")"
   ]
  },
  {
   "cell_type": "code",
   "execution_count": 55,
   "id": "f3336ca5",
   "metadata": {},
   "outputs": [],
   "source": [
    "gs2.best_estimator_.fit(trainX, trainY)\n",
    "predGs1 = gs2.best_estimator_.predict(testX)\n",
    "predGs2 = gs2.best_estimator_.predict(trainX)"
   ]
  },
  {
   "cell_type": "code",
   "execution_count": 56,
   "id": "8f2f0b86",
   "metadata": {},
   "outputs": [
    {
     "data": {
      "text/plain": [
       "(23.2, 0.0)"
      ]
     },
     "execution_count": 56,
     "metadata": {},
     "output_type": "execute_result"
    }
   ],
   "source": [
    "rmse.append(mean_squared_error(testY, predGs1, squared=False))\n",
    "rmse.append(mean_squared_error(trainY, predGs2, squared=False))\n",
    "(mean_squared_error(testY, predGs1, squared=False), mean_squared_error(trainY, predGs2, squared=False))"
   ]
  },
  {
   "cell_type": "markdown",
   "id": "46bc2d35",
   "metadata": {},
   "source": [
    "## Сравним метрики качества исходной и оптимальных моделей"
   ]
  },
  {
   "cell_type": "code",
   "execution_count": 57,
   "id": "fea23dff",
   "metadata": {},
   "outputs": [],
   "source": [
    "X = [i for i in range(len(rmse)//2)]\n",
    "testRMSE = []\n",
    "trainRMSE = []\n",
    "for i in range(len(rmse)):\n",
    "   if i%2==0:\n",
    "        trainRMSE.append(rmse[i])\n",
    "   else:\n",
    "        testRMSE.append(rmse[i])"
   ]
  },
  {
   "cell_type": "code",
   "execution_count": 58,
   "id": "2efae1cc",
   "metadata": {},
   "outputs": [
    {
     "data": {
      "text/plain": [
       "<AxesSubplot:title={'center':'Сравнение предсказания тестовой выборки'}, xlabel='Marks', ylabel='RMSE'>"
      ]
     },
     "execution_count": 58,
     "metadata": {},
     "output_type": "execute_result"
    },
    {
     "data": {
      "image/png": "[encoded data removed]",
      "text/plain": [
       "<Figure size 432x432 with 1 Axes>"
      ]
     },
     "metadata": {
      "needs_background": "light"
     },
     "output_type": "display_data"
    }
   ],
   "source": [
    "dataframe = pd.DataFrame({\"Marks\": X, \"RMSE\": trainRMSE})\n",
    "fig, ax = plt.subplots(figsize=(6,6)) \n",
    "ax.title.set_text(\"Сравнение предсказания тестовой выборки\")\n",
    "sns.barplot(data=dataframe, y=\"RMSE\", x=\"Marks\", color=\"#8172fb\")\n"
   ]
  },
  {
   "cell_type": "code",
   "execution_count": 59,
   "id": "7b468b7b",
   "metadata": {},
   "outputs": [
    {
     "data": {
      "text/plain": [
       "<AxesSubplot:title={'center':'Сравнение предсказания обучающей выборки'}, xlabel='Marks', ylabel='RMSE'>"
      ]
     },
     "execution_count": 59,
     "metadata": {},
     "output_type": "execute_result"
    },
    {
     "data": {
      "image/png": "[encoded data removed]",
      "text/plain": [
       "<Figure size 432x432 with 1 Axes>"
      ]
     },
     "metadata": {
      "needs_background": "light"
     },
     "output_type": "display_data"
    }
   ],
   "source": [
    "dataframe = pd.DataFrame({\"Marks\": X, \"RMSE\": testRMSE})\n",
    "fig, ax = plt.subplots(figsize=(6,6)) \n",
    "ax.title.set_text(\"Сравнение предсказания обучающей выборки\")\n",
    "sns.barplot(data=dataframe, y=\"RMSE\", x=\"Marks\", color=\"#8172fb\")"
   ]
  },
  {
   "cell_type": "code",
   "execution_count": null,
   "id": "aba33922",
   "metadata": {},
   "outputs": [],
   "source": []
  }
 ],
 "metadata": {
  "kernelspec": {
   "display_name": "Python 3 (ipykernel)",
   "language": "python",
   "name": "python3"
  },
  "language_info": {
   "codemirror_mode": {
    "name": "ipython",
    "version": 3
   },
   "file_extension": ".py",
   "mimetype": "text/x-python",
   "name": "python",
   "nbconvert_exporter": "python",
   "pygments_lexer": "ipython3",
   "version": "3.9.7"
  }
 },
 "nbformat": 4,
 "nbformat_minor": 5
}
